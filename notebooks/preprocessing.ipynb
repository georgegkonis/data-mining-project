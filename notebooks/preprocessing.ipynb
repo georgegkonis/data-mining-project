{
 "cells": [
  {
   "cell_type": "code",
   "execution_count": 184,
   "outputs": [],
   "source": [
    "import pandas as pd\n",
    "import numpy as np\n",
    "import utils.util as ut"
   ],
   "metadata": {
    "collapsed": false,
    "ExecuteTime": {
     "end_time": "2023-09-02T12:55:55.114636600Z",
     "start_time": "2023-09-02T12:55:55.077476900Z"
    }
   },
   "id": "2f223bcdcd158c3e"
  },
  {
   "cell_type": "code",
   "execution_count": 185,
   "outputs": [],
   "source": [
    "pd.options.display.float_format = '{:.2f}'.format"
   ],
   "metadata": {
    "collapsed": false,
    "ExecuteTime": {
     "end_time": "2023-09-02T12:55:55.212916700Z",
     "start_time": "2023-09-02T12:55:55.118970600Z"
    }
   },
   "id": "63ff0da63877acc8"
  },
  {
   "cell_type": "code",
   "execution_count": 186,
   "outputs": [],
   "source": [
    "df = pd.read_csv(\"../data/data.csv\")"
   ],
   "metadata": {
    "collapsed": false,
    "ExecuteTime": {
     "end_time": "2023-09-02T12:55:55.305997400Z",
     "start_time": "2023-09-02T12:55:55.219306200Z"
    }
   },
   "id": "53e80ca7bb6a8ccc"
  },
  {
   "cell_type": "markdown",
   "source": [
    "## Data inspection"
   ],
   "metadata": {
    "collapsed": false
   },
   "id": "bbb7dd4724d2dbd3"
  },
  {
   "cell_type": "code",
   "execution_count": 187,
   "outputs": [
    {
     "data": {
      "text/plain": "         Entity Continent  Latitude  Longitude  Average temperature per year  \\\n0       Albania    Europe     41.15      20.17                            14   \n1       Albania    Europe     41.15      20.17                            14   \n2       Albania    Europe     41.15      20.17                            14   \n3       Albania    Europe     41.15      20.17                            14   \n4       Albania    Europe     41.15      20.17                            14   \n...         ...       ...       ...        ...                           ...   \n38467  Zimbabwe    Africa    -19.02      29.15                            20   \n38468  Zimbabwe    Africa    -19.02      29.15                            20   \n38469  Zimbabwe    Africa    -19.02      29.15                            20   \n38470  Zimbabwe    Africa    -19.02      29.15                            20   \n38471  Zimbabwe    Africa    -19.02      29.15                            20   \n\n       Hospital beds per 1000 people  Medical doctors per 1000 people  \\\n0                               2.89                             1.29   \n1                               2.89                             1.29   \n2                               2.89                             1.29   \n3                               2.89                             1.29   \n4                               2.89                             1.29   \n...                              ...                              ...   \n38467                           1.70                             0.08   \n38468                           1.70                             0.08   \n38469                           1.70                             0.08   \n38470                           1.70                             0.08   \n38471                           1.70                             0.08   \n\n       GDP/Capita  Population  Median age  Population aged 65 and over (%)  \\\n0         5353.20     2873457          38                               14   \n1         5353.20     2873457          38                               14   \n2         5353.20     2873457          38                               14   \n3         5353.20     2873457          38                               14   \n4         5353.20     2873457          38                               14   \n...           ...         ...         ...                              ...   \n38467     1464.00    16529904          19                                3   \n38468     1464.00    16529904          19                                3   \n38469     1464.00    16529904          19                                3   \n38470     1464.00    16529904          19                                3   \n38471     1464.00    16529904          19                                3   \n\n             Date  Daily tests    Cases  Deaths  \n0      2020-02-25         8.00      NaN     NaN  \n1      2020-02-26         5.00      NaN     NaN  \n2      2020-02-27         4.00      NaN     NaN  \n3      2020-02-28         1.00      NaN     NaN  \n4      2020-02-29         8.00      NaN     NaN  \n...           ...          ...      ...     ...  \n38467  2021-02-24      1804.00 35960.00 1456.00  \n38468  2021-02-25      2965.00 35994.00 1458.00  \n38469  2021-02-26          NaN 36044.00 1463.00  \n38470  2021-02-27          NaN 36058.00 1463.00  \n38471  2021-02-28          NaN 36089.00 1463.00  \n\n[38472 rows x 15 columns]",
      "text/html": "<div>\n<style scoped>\n    .dataframe tbody tr th:only-of-type {\n        vertical-align: middle;\n    }\n\n    .dataframe tbody tr th {\n        vertical-align: top;\n    }\n\n    .dataframe thead th {\n        text-align: right;\n    }\n</style>\n<table border=\"1\" class=\"dataframe\">\n  <thead>\n    <tr style=\"text-align: right;\">\n      <th></th>\n      <th>Entity</th>\n      <th>Continent</th>\n      <th>Latitude</th>\n      <th>Longitude</th>\n      <th>Average temperature per year</th>\n      <th>Hospital beds per 1000 people</th>\n      <th>Medical doctors per 1000 people</th>\n      <th>GDP/Capita</th>\n      <th>Population</th>\n      <th>Median age</th>\n      <th>Population aged 65 and over (%)</th>\n      <th>Date</th>\n      <th>Daily tests</th>\n      <th>Cases</th>\n      <th>Deaths</th>\n    </tr>\n  </thead>\n  <tbody>\n    <tr>\n      <th>0</th>\n      <td>Albania</td>\n      <td>Europe</td>\n      <td>41.15</td>\n      <td>20.17</td>\n      <td>14</td>\n      <td>2.89</td>\n      <td>1.29</td>\n      <td>5353.20</td>\n      <td>2873457</td>\n      <td>38</td>\n      <td>14</td>\n      <td>2020-02-25</td>\n      <td>8.00</td>\n      <td>NaN</td>\n      <td>NaN</td>\n    </tr>\n    <tr>\n      <th>1</th>\n      <td>Albania</td>\n      <td>Europe</td>\n      <td>41.15</td>\n      <td>20.17</td>\n      <td>14</td>\n      <td>2.89</td>\n      <td>1.29</td>\n      <td>5353.20</td>\n      <td>2873457</td>\n      <td>38</td>\n      <td>14</td>\n      <td>2020-02-26</td>\n      <td>5.00</td>\n      <td>NaN</td>\n      <td>NaN</td>\n    </tr>\n    <tr>\n      <th>2</th>\n      <td>Albania</td>\n      <td>Europe</td>\n      <td>41.15</td>\n      <td>20.17</td>\n      <td>14</td>\n      <td>2.89</td>\n      <td>1.29</td>\n      <td>5353.20</td>\n      <td>2873457</td>\n      <td>38</td>\n      <td>14</td>\n      <td>2020-02-27</td>\n      <td>4.00</td>\n      <td>NaN</td>\n      <td>NaN</td>\n    </tr>\n    <tr>\n      <th>3</th>\n      <td>Albania</td>\n      <td>Europe</td>\n      <td>41.15</td>\n      <td>20.17</td>\n      <td>14</td>\n      <td>2.89</td>\n      <td>1.29</td>\n      <td>5353.20</td>\n      <td>2873457</td>\n      <td>38</td>\n      <td>14</td>\n      <td>2020-02-28</td>\n      <td>1.00</td>\n      <td>NaN</td>\n      <td>NaN</td>\n    </tr>\n    <tr>\n      <th>4</th>\n      <td>Albania</td>\n      <td>Europe</td>\n      <td>41.15</td>\n      <td>20.17</td>\n      <td>14</td>\n      <td>2.89</td>\n      <td>1.29</td>\n      <td>5353.20</td>\n      <td>2873457</td>\n      <td>38</td>\n      <td>14</td>\n      <td>2020-02-29</td>\n      <td>8.00</td>\n      <td>NaN</td>\n      <td>NaN</td>\n    </tr>\n    <tr>\n      <th>...</th>\n      <td>...</td>\n      <td>...</td>\n      <td>...</td>\n      <td>...</td>\n      <td>...</td>\n      <td>...</td>\n      <td>...</td>\n      <td>...</td>\n      <td>...</td>\n      <td>...</td>\n      <td>...</td>\n      <td>...</td>\n      <td>...</td>\n      <td>...</td>\n      <td>...</td>\n    </tr>\n    <tr>\n      <th>38467</th>\n      <td>Zimbabwe</td>\n      <td>Africa</td>\n      <td>-19.02</td>\n      <td>29.15</td>\n      <td>20</td>\n      <td>1.70</td>\n      <td>0.08</td>\n      <td>1464.00</td>\n      <td>16529904</td>\n      <td>19</td>\n      <td>3</td>\n      <td>2021-02-24</td>\n      <td>1804.00</td>\n      <td>35960.00</td>\n      <td>1456.00</td>\n    </tr>\n    <tr>\n      <th>38468</th>\n      <td>Zimbabwe</td>\n      <td>Africa</td>\n      <td>-19.02</td>\n      <td>29.15</td>\n      <td>20</td>\n      <td>1.70</td>\n      <td>0.08</td>\n      <td>1464.00</td>\n      <td>16529904</td>\n      <td>19</td>\n      <td>3</td>\n      <td>2021-02-25</td>\n      <td>2965.00</td>\n      <td>35994.00</td>\n      <td>1458.00</td>\n    </tr>\n    <tr>\n      <th>38469</th>\n      <td>Zimbabwe</td>\n      <td>Africa</td>\n      <td>-19.02</td>\n      <td>29.15</td>\n      <td>20</td>\n      <td>1.70</td>\n      <td>0.08</td>\n      <td>1464.00</td>\n      <td>16529904</td>\n      <td>19</td>\n      <td>3</td>\n      <td>2021-02-26</td>\n      <td>NaN</td>\n      <td>36044.00</td>\n      <td>1463.00</td>\n    </tr>\n    <tr>\n      <th>38470</th>\n      <td>Zimbabwe</td>\n      <td>Africa</td>\n      <td>-19.02</td>\n      <td>29.15</td>\n      <td>20</td>\n      <td>1.70</td>\n      <td>0.08</td>\n      <td>1464.00</td>\n      <td>16529904</td>\n      <td>19</td>\n      <td>3</td>\n      <td>2021-02-27</td>\n      <td>NaN</td>\n      <td>36058.00</td>\n      <td>1463.00</td>\n    </tr>\n    <tr>\n      <th>38471</th>\n      <td>Zimbabwe</td>\n      <td>Africa</td>\n      <td>-19.02</td>\n      <td>29.15</td>\n      <td>20</td>\n      <td>1.70</td>\n      <td>0.08</td>\n      <td>1464.00</td>\n      <td>16529904</td>\n      <td>19</td>\n      <td>3</td>\n      <td>2021-02-28</td>\n      <td>NaN</td>\n      <td>36089.00</td>\n      <td>1463.00</td>\n    </tr>\n  </tbody>\n</table>\n<p>38472 rows × 15 columns</p>\n</div>"
     },
     "execution_count": 187,
     "metadata": {},
     "output_type": "execute_result"
    }
   ],
   "source": [
    "df"
   ],
   "metadata": {
    "collapsed": false,
    "ExecuteTime": {
     "end_time": "2023-09-02T12:55:55.320321300Z",
     "start_time": "2023-09-02T12:55:55.269718300Z"
    }
   },
   "id": "4fd744c8ea64c441"
  },
  {
   "cell_type": "code",
   "execution_count": 188,
   "outputs": [
    {
     "data": {
      "text/plain": "       Latitude  Longitude  Average temperature per year  \\\ncount  38472.00   38472.00                      38472.00   \nmean      23.74      20.21                         17.72   \nstd       26.06      61.07                          8.13   \nmin      -40.90    -106.35                         -2.00   \n25%        8.62      -3.44                         11.00   \n50%       27.51      21.82                         20.00   \n75%       45.94      47.48                         25.00   \nmax       64.96     179.41                         29.00   \n\n       Hospital beds per 1000 people  Medical doctors per 1000 people  \\\ncount                       38472.00                         38472.00   \nmean                            3.17                             2.09   \nstd                             2.56                             1.52   \nmin                             0.20                             0.02   \n25%                             1.40                             0.82   \n50%                             2.50                             1.89   \n75%                             4.49                             3.21   \nmax                            13.05                             7.52   \n\n       GDP/Capita    Population  Median age  Population aged 65 and over (%)  \\\ncount    38472.00      38472.00    38472.00                         38472.00   \nmean     19002.33   48969829.03       32.75                            10.66   \nstd      22271.11  142725118.68        8.47                             6.77   \nmin        411.60     341284.00       16.00                             1.00   \n25%       3659.00    4793900.00       27.00                             5.00   \n50%       8821.80   11484636.00       32.00                             8.00   \n75%      25946.20   42862958.00       41.00                            16.00   \nmax     114704.60 1339180127.00       48.00                            28.00   \n\n       Daily tests       Cases    Deaths  \ncount     30577.00    38218.00  34862.00  \nmean      39440.59   287902.66   8090.50  \nstd      150184.66  1405242.87  29548.75  \nmin     -239172.00        1.00      1.00  \n25%        1505.00     2074.00     77.00  \n50%        5520.00    21431.00    527.00  \n75%       20382.00   137377.00   3480.50  \nmax     2945871.00 28605669.00 513091.00  ",
      "text/html": "<div>\n<style scoped>\n    .dataframe tbody tr th:only-of-type {\n        vertical-align: middle;\n    }\n\n    .dataframe tbody tr th {\n        vertical-align: top;\n    }\n\n    .dataframe thead th {\n        text-align: right;\n    }\n</style>\n<table border=\"1\" class=\"dataframe\">\n  <thead>\n    <tr style=\"text-align: right;\">\n      <th></th>\n      <th>Latitude</th>\n      <th>Longitude</th>\n      <th>Average temperature per year</th>\n      <th>Hospital beds per 1000 people</th>\n      <th>Medical doctors per 1000 people</th>\n      <th>GDP/Capita</th>\n      <th>Population</th>\n      <th>Median age</th>\n      <th>Population aged 65 and over (%)</th>\n      <th>Daily tests</th>\n      <th>Cases</th>\n      <th>Deaths</th>\n    </tr>\n  </thead>\n  <tbody>\n    <tr>\n      <th>count</th>\n      <td>38472.00</td>\n      <td>38472.00</td>\n      <td>38472.00</td>\n      <td>38472.00</td>\n      <td>38472.00</td>\n      <td>38472.00</td>\n      <td>38472.00</td>\n      <td>38472.00</td>\n      <td>38472.00</td>\n      <td>30577.00</td>\n      <td>38218.00</td>\n      <td>34862.00</td>\n    </tr>\n    <tr>\n      <th>mean</th>\n      <td>23.74</td>\n      <td>20.21</td>\n      <td>17.72</td>\n      <td>3.17</td>\n      <td>2.09</td>\n      <td>19002.33</td>\n      <td>48969829.03</td>\n      <td>32.75</td>\n      <td>10.66</td>\n      <td>39440.59</td>\n      <td>287902.66</td>\n      <td>8090.50</td>\n    </tr>\n    <tr>\n      <th>std</th>\n      <td>26.06</td>\n      <td>61.07</td>\n      <td>8.13</td>\n      <td>2.56</td>\n      <td>1.52</td>\n      <td>22271.11</td>\n      <td>142725118.68</td>\n      <td>8.47</td>\n      <td>6.77</td>\n      <td>150184.66</td>\n      <td>1405242.87</td>\n      <td>29548.75</td>\n    </tr>\n    <tr>\n      <th>min</th>\n      <td>-40.90</td>\n      <td>-106.35</td>\n      <td>-2.00</td>\n      <td>0.20</td>\n      <td>0.02</td>\n      <td>411.60</td>\n      <td>341284.00</td>\n      <td>16.00</td>\n      <td>1.00</td>\n      <td>-239172.00</td>\n      <td>1.00</td>\n      <td>1.00</td>\n    </tr>\n    <tr>\n      <th>25%</th>\n      <td>8.62</td>\n      <td>-3.44</td>\n      <td>11.00</td>\n      <td>1.40</td>\n      <td>0.82</td>\n      <td>3659.00</td>\n      <td>4793900.00</td>\n      <td>27.00</td>\n      <td>5.00</td>\n      <td>1505.00</td>\n      <td>2074.00</td>\n      <td>77.00</td>\n    </tr>\n    <tr>\n      <th>50%</th>\n      <td>27.51</td>\n      <td>21.82</td>\n      <td>20.00</td>\n      <td>2.50</td>\n      <td>1.89</td>\n      <td>8821.80</td>\n      <td>11484636.00</td>\n      <td>32.00</td>\n      <td>8.00</td>\n      <td>5520.00</td>\n      <td>21431.00</td>\n      <td>527.00</td>\n    </tr>\n    <tr>\n      <th>75%</th>\n      <td>45.94</td>\n      <td>47.48</td>\n      <td>25.00</td>\n      <td>4.49</td>\n      <td>3.21</td>\n      <td>25946.20</td>\n      <td>42862958.00</td>\n      <td>41.00</td>\n      <td>16.00</td>\n      <td>20382.00</td>\n      <td>137377.00</td>\n      <td>3480.50</td>\n    </tr>\n    <tr>\n      <th>max</th>\n      <td>64.96</td>\n      <td>179.41</td>\n      <td>29.00</td>\n      <td>13.05</td>\n      <td>7.52</td>\n      <td>114704.60</td>\n      <td>1339180127.00</td>\n      <td>48.00</td>\n      <td>28.00</td>\n      <td>2945871.00</td>\n      <td>28605669.00</td>\n      <td>513091.00</td>\n    </tr>\n  </tbody>\n</table>\n</div>"
     },
     "execution_count": 188,
     "metadata": {},
     "output_type": "execute_result"
    }
   ],
   "source": [
    "df.describe()"
   ],
   "metadata": {
    "collapsed": false,
    "ExecuteTime": {
     "end_time": "2023-09-02T12:55:55.352868Z",
     "start_time": "2023-09-02T12:55:55.284966400Z"
    }
   },
   "id": "8c3b5aa7782b903b"
  },
  {
   "cell_type": "code",
   "execution_count": 189,
   "outputs": [
    {
     "name": "stdout",
     "output_type": "stream",
     "text": [
      "<class 'pandas.core.frame.DataFrame'>\n",
      "RangeIndex: 38472 entries, 0 to 38471\n",
      "Data columns (total 15 columns):\n",
      " #   Column                           Non-Null Count  Dtype  \n",
      "---  ------                           --------------  -----  \n",
      " 0   Entity                           38472 non-null  object \n",
      " 1   Continent                        38472 non-null  object \n",
      " 2   Latitude                         38472 non-null  float64\n",
      " 3   Longitude                        38472 non-null  float64\n",
      " 4   Average temperature per year     38472 non-null  int64  \n",
      " 5   Hospital beds per 1000 people    38472 non-null  float64\n",
      " 6   Medical doctors per 1000 people  38472 non-null  float64\n",
      " 7   GDP/Capita                       38472 non-null  float64\n",
      " 8   Population                       38472 non-null  int64  \n",
      " 9   Median age                       38472 non-null  int64  \n",
      " 10  Population aged 65 and over (%)  38472 non-null  int64  \n",
      " 11  Date                             38472 non-null  object \n",
      " 12  Daily tests                      30577 non-null  float64\n",
      " 13  Cases                            38218 non-null  float64\n",
      " 14  Deaths                           34862 non-null  float64\n",
      "dtypes: float64(8), int64(4), object(3)\n",
      "memory usage: 4.4+ MB\n"
     ]
    }
   ],
   "source": [
    "df.info()"
   ],
   "metadata": {
    "collapsed": false,
    "ExecuteTime": {
     "end_time": "2023-09-02T12:55:55.382622800Z",
     "start_time": "2023-09-02T12:55:55.320321300Z"
    }
   },
   "id": "783f525a4777466c"
  },
  {
   "cell_type": "markdown",
   "source": [
    "### Observations\n",
    "\n",
    "From an initial inspection we can observe that:\n",
    "\n",
    "* The `Daily tests` column has a lot of missing values.\n",
    "* The `Cases` and `Deaths` columns have some missing values.\n",
    "* The `Daily tests` column has some negative values, which would be impossible."
   ],
   "metadata": {
    "collapsed": false
   },
   "id": "4268ca3f6749860a"
  },
  {
   "cell_type": "markdown",
   "source": [
    "## Handle Negative values\n",
    "\n",
    "In the context of this dataset, negative values in the `Daily tests` column are impossible. Therefore, we'll have to\n",
    "deal with them. As a first step, we'll replace them with NaN values, and then we'll handle them later along with the\n",
    "other missing values."
   ],
   "metadata": {
    "collapsed": false
   },
   "id": "7eb87338429f7cf0"
  },
  {
   "cell_type": "code",
   "execution_count": 190,
   "outputs": [],
   "source": [
    "df.loc[df['Daily tests'] < 0, 'Daily tests'] = np.nan"
   ],
   "metadata": {
    "collapsed": false,
    "ExecuteTime": {
     "end_time": "2023-09-02T12:55:55.416966900Z",
     "start_time": "2023-09-02T12:55:55.358012400Z"
    }
   },
   "id": "a7eb564672bfccda"
  },
  {
   "cell_type": "markdown",
   "source": [
    "## Handle missing values\n",
    "\n",
    "### Replace with 0\n",
    "\n",
    "In the `Deaths` and `Cases` columns there the missing values, but they take up only the first few rows of each \n",
    "country. Therefore, we can safely assume that the missing values actually represent 0, and we can replace them.\n",
    "\n",
    "In the `Daily tests` column there are a lot more missing values, and they're scattered throughout the dataset for \n",
    "each country. Assuming they're all 0 is therefore not an option."
   ],
   "metadata": {
    "collapsed": false
   },
   "id": "4772882040f5af3f"
  },
  {
   "cell_type": "code",
   "execution_count": 191,
   "outputs": [],
   "source": [
    "df['Cases'].fillna(0, inplace=True)\n",
    "df['Deaths'].fillna(0, inplace=True)"
   ],
   "metadata": {
    "collapsed": false,
    "ExecuteTime": {
     "end_time": "2023-09-02T12:55:55.497984900Z",
     "start_time": "2023-09-02T12:55:55.390624500Z"
    }
   },
   "id": "4da270b6a28c4ab9"
  },
  {
   "cell_type": "code",
   "execution_count": 192,
   "outputs": [],
   "source": [
    "df['Cases'] = df.groupby('Entity')['Cases'].transform('cummax')\n",
    "df['Deaths'] = df.groupby('Entity')['Deaths'].transform('cummax')"
   ],
   "metadata": {
    "collapsed": false,
    "ExecuteTime": {
     "end_time": "2023-09-02T12:55:55.543250600Z",
     "start_time": "2023-09-02T12:55:55.487381500Z"
    }
   },
   "id": "d4f36664c134238f"
  },
  {
   "cell_type": "markdown",
   "source": [
    "### Add columns\n",
    "\n",
    "Since we've dealt with the missing values in the `Cases` and `Deaths` columns, we can now calculate and add the\n",
    "`Daily cases` and `Daily deaths` columns, which will be useful later."
   ],
   "metadata": {
    "collapsed": false
   },
   "id": "1939089e3c482994"
  },
  {
   "cell_type": "code",
   "execution_count": 193,
   "outputs": [],
   "source": [
    "df['Daily cases'] = df.groupby('Entity')['Cases'].diff().fillna(0)\n",
    "df['Daily deaths'] = df.groupby('Entity')['Deaths'].diff().fillna(0)"
   ],
   "metadata": {
    "collapsed": false,
    "ExecuteTime": {
     "end_time": "2023-09-02T12:55:55.605116100Z",
     "start_time": "2023-09-02T12:55:55.542256100Z"
    }
   },
   "id": "b373df38e66fb45d"
  },
  {
   "cell_type": "markdown",
   "source": [
    "### Interpolate\n",
    "\n",
    "For the `Daily tests` column, we'll first try to fill in the smaller gaps with linear interpolation. To do this, we'll\n",
    "group the data by country, and then interpolate the missing values for each country separately, applying a limit of 3\n",
    "consecutive missing values."
   ],
   "metadata": {
    "collapsed": false
   },
   "id": "d1c36e3f79564e03"
  },
  {
   "cell_type": "code",
   "execution_count": 194,
   "outputs": [
    {
     "data": {
      "text/plain": "         Entity Continent  Latitude  Longitude  Average temperature per year  \\\n0       Albania    Europe     41.15      20.17                            14   \n1       Albania    Europe     41.15      20.17                            14   \n2       Albania    Europe     41.15      20.17                            14   \n3       Albania    Europe     41.15      20.17                            14   \n4       Albania    Europe     41.15      20.17                            14   \n...         ...       ...       ...        ...                           ...   \n38467  Zimbabwe    Africa    -19.02      29.15                            20   \n38468  Zimbabwe    Africa    -19.02      29.15                            20   \n38469  Zimbabwe    Africa    -19.02      29.15                            20   \n38470  Zimbabwe    Africa    -19.02      29.15                            20   \n38471  Zimbabwe    Africa    -19.02      29.15                            20   \n\n       Hospital beds per 1000 people  Medical doctors per 1000 people  \\\n0                               2.89                             1.29   \n1                               2.89                             1.29   \n2                               2.89                             1.29   \n3                               2.89                             1.29   \n4                               2.89                             1.29   \n...                              ...                              ...   \n38467                           1.70                             0.08   \n38468                           1.70                             0.08   \n38469                           1.70                             0.08   \n38470                           1.70                             0.08   \n38471                           1.70                             0.08   \n\n       GDP/Capita  Population  Median age  Population aged 65 and over (%)  \\\n0         5353.20     2873457          38                               14   \n1         5353.20     2873457          38                               14   \n2         5353.20     2873457          38                               14   \n3         5353.20     2873457          38                               14   \n4         5353.20     2873457          38                               14   \n...           ...         ...         ...                              ...   \n38467     1464.00    16529904          19                                3   \n38468     1464.00    16529904          19                                3   \n38469     1464.00    16529904          19                                3   \n38470     1464.00    16529904          19                                3   \n38471     1464.00    16529904          19                                3   \n\n             Date  Daily tests    Cases  Deaths  Daily cases  Daily deaths  \n0      2020-02-25         8.00     0.00    0.00         0.00          0.00  \n1      2020-02-26         5.00     0.00    0.00         0.00          0.00  \n2      2020-02-27         4.00     0.00    0.00         0.00          0.00  \n3      2020-02-28         1.00     0.00    0.00         0.00          0.00  \n4      2020-02-29         8.00     0.00    0.00         0.00          0.00  \n...           ...          ...      ...     ...          ...           ...  \n38467  2021-02-24      1804.00 35960.00 1456.00        50.00          8.00  \n38468  2021-02-25      2965.00 35994.00 1458.00        34.00          2.00  \n38469  2021-02-26          NaN 36044.00 1463.00        50.00          5.00  \n38470  2021-02-27          NaN 36058.00 1463.00        14.00          0.00  \n38471  2021-02-28          NaN 36089.00 1463.00        31.00          0.00  \n\n[38472 rows x 17 columns]",
      "text/html": "<div>\n<style scoped>\n    .dataframe tbody tr th:only-of-type {\n        vertical-align: middle;\n    }\n\n    .dataframe tbody tr th {\n        vertical-align: top;\n    }\n\n    .dataframe thead th {\n        text-align: right;\n    }\n</style>\n<table border=\"1\" class=\"dataframe\">\n  <thead>\n    <tr style=\"text-align: right;\">\n      <th></th>\n      <th>Entity</th>\n      <th>Continent</th>\n      <th>Latitude</th>\n      <th>Longitude</th>\n      <th>Average temperature per year</th>\n      <th>Hospital beds per 1000 people</th>\n      <th>Medical doctors per 1000 people</th>\n      <th>GDP/Capita</th>\n      <th>Population</th>\n      <th>Median age</th>\n      <th>Population aged 65 and over (%)</th>\n      <th>Date</th>\n      <th>Daily tests</th>\n      <th>Cases</th>\n      <th>Deaths</th>\n      <th>Daily cases</th>\n      <th>Daily deaths</th>\n    </tr>\n  </thead>\n  <tbody>\n    <tr>\n      <th>0</th>\n      <td>Albania</td>\n      <td>Europe</td>\n      <td>41.15</td>\n      <td>20.17</td>\n      <td>14</td>\n      <td>2.89</td>\n      <td>1.29</td>\n      <td>5353.20</td>\n      <td>2873457</td>\n      <td>38</td>\n      <td>14</td>\n      <td>2020-02-25</td>\n      <td>8.00</td>\n      <td>0.00</td>\n      <td>0.00</td>\n      <td>0.00</td>\n      <td>0.00</td>\n    </tr>\n    <tr>\n      <th>1</th>\n      <td>Albania</td>\n      <td>Europe</td>\n      <td>41.15</td>\n      <td>20.17</td>\n      <td>14</td>\n      <td>2.89</td>\n      <td>1.29</td>\n      <td>5353.20</td>\n      <td>2873457</td>\n      <td>38</td>\n      <td>14</td>\n      <td>2020-02-26</td>\n      <td>5.00</td>\n      <td>0.00</td>\n      <td>0.00</td>\n      <td>0.00</td>\n      <td>0.00</td>\n    </tr>\n    <tr>\n      <th>2</th>\n      <td>Albania</td>\n      <td>Europe</td>\n      <td>41.15</td>\n      <td>20.17</td>\n      <td>14</td>\n      <td>2.89</td>\n      <td>1.29</td>\n      <td>5353.20</td>\n      <td>2873457</td>\n      <td>38</td>\n      <td>14</td>\n      <td>2020-02-27</td>\n      <td>4.00</td>\n      <td>0.00</td>\n      <td>0.00</td>\n      <td>0.00</td>\n      <td>0.00</td>\n    </tr>\n    <tr>\n      <th>3</th>\n      <td>Albania</td>\n      <td>Europe</td>\n      <td>41.15</td>\n      <td>20.17</td>\n      <td>14</td>\n      <td>2.89</td>\n      <td>1.29</td>\n      <td>5353.20</td>\n      <td>2873457</td>\n      <td>38</td>\n      <td>14</td>\n      <td>2020-02-28</td>\n      <td>1.00</td>\n      <td>0.00</td>\n      <td>0.00</td>\n      <td>0.00</td>\n      <td>0.00</td>\n    </tr>\n    <tr>\n      <th>4</th>\n      <td>Albania</td>\n      <td>Europe</td>\n      <td>41.15</td>\n      <td>20.17</td>\n      <td>14</td>\n      <td>2.89</td>\n      <td>1.29</td>\n      <td>5353.20</td>\n      <td>2873457</td>\n      <td>38</td>\n      <td>14</td>\n      <td>2020-02-29</td>\n      <td>8.00</td>\n      <td>0.00</td>\n      <td>0.00</td>\n      <td>0.00</td>\n      <td>0.00</td>\n    </tr>\n    <tr>\n      <th>...</th>\n      <td>...</td>\n      <td>...</td>\n      <td>...</td>\n      <td>...</td>\n      <td>...</td>\n      <td>...</td>\n      <td>...</td>\n      <td>...</td>\n      <td>...</td>\n      <td>...</td>\n      <td>...</td>\n      <td>...</td>\n      <td>...</td>\n      <td>...</td>\n      <td>...</td>\n      <td>...</td>\n      <td>...</td>\n    </tr>\n    <tr>\n      <th>38467</th>\n      <td>Zimbabwe</td>\n      <td>Africa</td>\n      <td>-19.02</td>\n      <td>29.15</td>\n      <td>20</td>\n      <td>1.70</td>\n      <td>0.08</td>\n      <td>1464.00</td>\n      <td>16529904</td>\n      <td>19</td>\n      <td>3</td>\n      <td>2021-02-24</td>\n      <td>1804.00</td>\n      <td>35960.00</td>\n      <td>1456.00</td>\n      <td>50.00</td>\n      <td>8.00</td>\n    </tr>\n    <tr>\n      <th>38468</th>\n      <td>Zimbabwe</td>\n      <td>Africa</td>\n      <td>-19.02</td>\n      <td>29.15</td>\n      <td>20</td>\n      <td>1.70</td>\n      <td>0.08</td>\n      <td>1464.00</td>\n      <td>16529904</td>\n      <td>19</td>\n      <td>3</td>\n      <td>2021-02-25</td>\n      <td>2965.00</td>\n      <td>35994.00</td>\n      <td>1458.00</td>\n      <td>34.00</td>\n      <td>2.00</td>\n    </tr>\n    <tr>\n      <th>38469</th>\n      <td>Zimbabwe</td>\n      <td>Africa</td>\n      <td>-19.02</td>\n      <td>29.15</td>\n      <td>20</td>\n      <td>1.70</td>\n      <td>0.08</td>\n      <td>1464.00</td>\n      <td>16529904</td>\n      <td>19</td>\n      <td>3</td>\n      <td>2021-02-26</td>\n      <td>NaN</td>\n      <td>36044.00</td>\n      <td>1463.00</td>\n      <td>50.00</td>\n      <td>5.00</td>\n    </tr>\n    <tr>\n      <th>38470</th>\n      <td>Zimbabwe</td>\n      <td>Africa</td>\n      <td>-19.02</td>\n      <td>29.15</td>\n      <td>20</td>\n      <td>1.70</td>\n      <td>0.08</td>\n      <td>1464.00</td>\n      <td>16529904</td>\n      <td>19</td>\n      <td>3</td>\n      <td>2021-02-27</td>\n      <td>NaN</td>\n      <td>36058.00</td>\n      <td>1463.00</td>\n      <td>14.00</td>\n      <td>0.00</td>\n    </tr>\n    <tr>\n      <th>38471</th>\n      <td>Zimbabwe</td>\n      <td>Africa</td>\n      <td>-19.02</td>\n      <td>29.15</td>\n      <td>20</td>\n      <td>1.70</td>\n      <td>0.08</td>\n      <td>1464.00</td>\n      <td>16529904</td>\n      <td>19</td>\n      <td>3</td>\n      <td>2021-02-28</td>\n      <td>NaN</td>\n      <td>36089.00</td>\n      <td>1463.00</td>\n      <td>31.00</td>\n      <td>0.00</td>\n    </tr>\n  </tbody>\n</table>\n<p>38472 rows × 17 columns</p>\n</div>"
     },
     "execution_count": 194,
     "metadata": {},
     "output_type": "execute_result"
    }
   ],
   "source": [
    "df['Daily tests'] = (df.groupby('Entity')['Daily tests']\n",
    "                     .transform(lambda x: x.interpolate(method='linear', limit_area='inside', limit=3)))\n",
    "\n",
    "df"
   ],
   "metadata": {
    "collapsed": false,
    "ExecuteTime": {
     "end_time": "2023-09-02T12:55:55.681324Z",
     "start_time": "2023-09-02T12:55:55.609359200Z"
    }
   },
   "id": "5e479852990d90ee"
  },
  {
   "cell_type": "markdown",
   "source": [
    "### Find edge-cases\n",
    "\n",
    "Some countries might be missing a lot of values in the `Daily tests` column, so it wouldn't be accurate enough to try\n",
    "and guess them. It's better to drop any edge-cases we find before we proceed."
   ],
   "metadata": {
    "collapsed": false
   },
   "id": "2cc9a2a6b9c5bf79"
  },
  {
   "cell_type": "code",
   "execution_count": 195,
   "outputs": [
    {
     "data": {
      "text/plain": "             Entity  Daily tests\nEntity                          \nAlgeria        0.00        97.57\nOman           0.00        83.56\nVietnam        0.00        76.67\nArmenia        0.00        74.25\nBelarus        0.00        74.11\n...             ...          ...\nIsrael         0.00         0.80\nSlovenia       0.00         0.80\nDenmark        0.00         0.80\nSwitzerland    0.00         0.75\nLatvia         0.00         0.55\n\n[104 rows x 2 columns]",
      "text/html": "<div>\n<style scoped>\n    .dataframe tbody tr th:only-of-type {\n        vertical-align: middle;\n    }\n\n    .dataframe tbody tr th {\n        vertical-align: top;\n    }\n\n    .dataframe thead th {\n        text-align: right;\n    }\n</style>\n<table border=\"1\" class=\"dataframe\">\n  <thead>\n    <tr style=\"text-align: right;\">\n      <th></th>\n      <th>Entity</th>\n      <th>Daily tests</th>\n    </tr>\n    <tr>\n      <th>Entity</th>\n      <th></th>\n      <th></th>\n    </tr>\n  </thead>\n  <tbody>\n    <tr>\n      <th>Algeria</th>\n      <td>0.00</td>\n      <td>97.57</td>\n    </tr>\n    <tr>\n      <th>Oman</th>\n      <td>0.00</td>\n      <td>83.56</td>\n    </tr>\n    <tr>\n      <th>Vietnam</th>\n      <td>0.00</td>\n      <td>76.67</td>\n    </tr>\n    <tr>\n      <th>Armenia</th>\n      <td>0.00</td>\n      <td>74.25</td>\n    </tr>\n    <tr>\n      <th>Belarus</th>\n      <td>0.00</td>\n      <td>74.11</td>\n    </tr>\n    <tr>\n      <th>...</th>\n      <td>...</td>\n      <td>...</td>\n    </tr>\n    <tr>\n      <th>Israel</th>\n      <td>0.00</td>\n      <td>0.80</td>\n    </tr>\n    <tr>\n      <th>Slovenia</th>\n      <td>0.00</td>\n      <td>0.80</td>\n    </tr>\n    <tr>\n      <th>Denmark</th>\n      <td>0.00</td>\n      <td>0.80</td>\n    </tr>\n    <tr>\n      <th>Switzerland</th>\n      <td>0.00</td>\n      <td>0.75</td>\n    </tr>\n    <tr>\n      <th>Latvia</th>\n      <td>0.00</td>\n      <td>0.55</td>\n    </tr>\n  </tbody>\n</table>\n<p>104 rows × 2 columns</p>\n</div>"
     },
     "execution_count": 195,
     "metadata": {},
     "output_type": "execute_result"
    }
   ],
   "source": [
    "nan_df = (df[['Entity', 'Daily tests']]\n",
    "          .groupby('Entity')\n",
    "          .apply(lambda x: x.isna().mean() * 100)\n",
    "          .sort_values(by='Daily tests', ascending=False))\n",
    "nan_df"
   ],
   "metadata": {
    "collapsed": false,
    "ExecuteTime": {
     "end_time": "2023-09-02T12:55:55.806647400Z",
     "start_time": "2023-09-02T12:55:55.667501Z"
    }
   },
   "id": "9702348c3f5e7596"
  },
  {
   "cell_type": "markdown",
   "source": [
    "### Drop the edge-cases\n",
    "\n",
    "We will treat all countries with more than 40% missing values in the `Daily tests` column as edge-cases and drop them."
   ],
   "metadata": {
    "collapsed": false
   },
   "id": "506bede838931c24"
  },
  {
   "cell_type": "code",
   "execution_count": 196,
   "outputs": [],
   "source": [
    "countries_to_drop = nan_df[(nan_df['Daily tests'] > 40)].index.tolist()\n",
    "\n",
    "df = df[~df['Entity'].isin(countries_to_drop)].copy()\n",
    "\n",
    "df.reset_index(drop=True, inplace=True)"
   ],
   "metadata": {
    "collapsed": false,
    "ExecuteTime": {
     "end_time": "2023-09-02T12:55:55.807648900Z",
     "start_time": "2023-09-02T12:55:55.732713700Z"
    }
   },
   "id": "bd6ea697cdc69729"
  },
  {
   "cell_type": "markdown",
   "source": [
    "### Replace with average ratio\n",
    "\n",
    "For the remaining missing values in the `Daily tests` column, we'll try to fill them in based on the average ratio\n",
    "between the `Daily tests` and `Daily cases` columns for each country. We'll first calculate the average ratio for each\n",
    "country, and then we'll use it to fill in the missing values. This method should leave no missing values behind."
   ],
   "metadata": {
    "collapsed": false
   },
   "id": "c0790ad00660bc9f"
  },
  {
   "cell_type": "code",
   "execution_count": 197,
   "outputs": [],
   "source": [
    "avg_ratios = df.groupby('Entity').apply(ut.compute_avg_ratio)\n",
    "\n",
    "df['Daily tests'] = df.apply(lambda x: ut.fill_na_based_on_ratio(x, avg_ratios), axis=1)"
   ],
   "metadata": {
    "collapsed": false,
    "ExecuteTime": {
     "end_time": "2023-09-02T12:55:56.019364800Z",
     "start_time": "2023-09-02T12:55:55.750924Z"
    }
   },
   "id": "fd05c79846724d20"
  },
  {
   "cell_type": "markdown",
   "source": [
    "## Add columns \n",
    "\n",
    "We will add some additional columns that we will need later.\n",
    "\n",
    "The additional columns are:\n",
    "1. 'Tests' - The total number of tests.\n",
    "2. 'Daily cases' - The number of new cases per day.\n",
    "3. 'Daily deaths' - The number of new deaths per day.\n",
    "4. 'Daily positivity rate (%)' - The positivity rate of the tests per day.\n",
    "5. 'Daily mortality rate (%)' - The mortality rate of the cases per day.\n",
    "6. 'Positivity rate (%)' - The positivity rate of the tests.\n",
    "7. 'Mortality rate (%)' - The mortality rate of the cases."
   ],
   "metadata": {
    "collapsed": false
   },
   "id": "61f4ea55e85d16e5"
  },
  {
   "cell_type": "code",
   "execution_count": 198,
   "outputs": [],
   "source": [
    "df['Daily tests'] = df['Daily tests'].round(0)\n",
    "df['Tests'] = df.groupby('Entity')['Daily tests'].cumsum()\n",
    "df['Positivity rate (%)'] = (df['Cases'] / df['Tests'] * 100).round(2).fillna(0)\n",
    "df['Mortality rate (%)'] = (df['Deaths'] / df['Cases'] * 100).round(2).fillna(0)"
   ],
   "metadata": {
    "collapsed": false,
    "ExecuteTime": {
     "end_time": "2023-09-02T12:55:56.032786500Z",
     "start_time": "2023-09-02T12:55:56.023883300Z"
    }
   },
   "id": "efcad5f396a88458"
  },
  {
   "cell_type": "code",
   "execution_count": 0,
   "outputs": [],
   "source": [
    "df.to_csv(\"../data/pp_data.csv\", index=False)"
   ],
   "metadata": {
    "collapsed": false
   },
   "id": "889ec6b0d571e9bb"
  }
 ],
 "metadata": {
  "kernelspec": {
   "display_name": "Python 3",
   "language": "python",
   "name": "python3"
  },
  "language_info": {
   "codemirror_mode": {
    "name": "ipython",
    "version": 2
   },
   "file_extension": ".py",
   "mimetype": "text/x-python",
   "name": "python",
   "nbconvert_exporter": "python",
   "pygments_lexer": "ipython2",
   "version": "2.7.6"
  }
 },
 "nbformat": 4,
 "nbformat_minor": 5
}
