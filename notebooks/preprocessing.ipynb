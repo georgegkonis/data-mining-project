{
 "cells": [
  {
   "cell_type": "code",
   "execution_count": 22,
   "outputs": [],
   "source": [
    "import pandas as pd\n",
    "import numpy as np\n",
    "import utils.util as ut"
   ],
   "metadata": {
    "collapsed": false,
    "ExecuteTime": {
     "end_time": "2023-09-03T20:25:58.750887100Z",
     "start_time": "2023-09-03T20:25:58.674054100Z"
    }
   },
   "id": "2f223bcdcd158c3e"
  },
  {
   "cell_type": "code",
   "execution_count": 23,
   "outputs": [],
   "source": [
    "pd.options.display.float_format = '{:.2f}'.format"
   ],
   "metadata": {
    "collapsed": false,
    "ExecuteTime": {
     "end_time": "2023-09-03T20:25:58.781855700Z",
     "start_time": "2023-09-03T20:25:58.678955800Z"
    }
   },
   "id": "63ff0da63877acc8"
  },
  {
   "cell_type": "code",
   "execution_count": 24,
   "outputs": [],
   "source": [
    "df = pd.read_csv(\"../data/data.csv\")"
   ],
   "metadata": {
    "collapsed": false,
    "ExecuteTime": {
     "end_time": "2023-09-03T20:25:58.903103500Z",
     "start_time": "2023-09-03T20:25:58.684041400Z"
    }
   },
   "id": "53e80ca7bb6a8ccc"
  },
  {
   "cell_type": "markdown",
   "source": [
    "## Data inspection"
   ],
   "metadata": {
    "collapsed": false
   },
   "id": "bbb7dd4724d2dbd3"
  },
  {
   "cell_type": "code",
   "execution_count": 25,
   "outputs": [
    {
     "data": {
      "text/plain": "         Entity Continent  Latitude  Longitude  Average temperature per year  \\\n0       Albania    Europe     41.15      20.17                            14   \n1       Albania    Europe     41.15      20.17                            14   \n2       Albania    Europe     41.15      20.17                            14   \n3       Albania    Europe     41.15      20.17                            14   \n4       Albania    Europe     41.15      20.17                            14   \n...         ...       ...       ...        ...                           ...   \n38467  Zimbabwe    Africa    -19.02      29.15                            20   \n38468  Zimbabwe    Africa    -19.02      29.15                            20   \n38469  Zimbabwe    Africa    -19.02      29.15                            20   \n38470  Zimbabwe    Africa    -19.02      29.15                            20   \n38471  Zimbabwe    Africa    -19.02      29.15                            20   \n\n       Hospital beds per 1000 people  Medical doctors per 1000 people  \\\n0                               2.89                             1.29   \n1                               2.89                             1.29   \n2                               2.89                             1.29   \n3                               2.89                             1.29   \n4                               2.89                             1.29   \n...                              ...                              ...   \n38467                           1.70                             0.08   \n38468                           1.70                             0.08   \n38469                           1.70                             0.08   \n38470                           1.70                             0.08   \n38471                           1.70                             0.08   \n\n       GDP/Capita  Population  Median age  Population aged 65 and over (%)  \\\n0         5353.20     2873457          38                               14   \n1         5353.20     2873457          38                               14   \n2         5353.20     2873457          38                               14   \n3         5353.20     2873457          38                               14   \n4         5353.20     2873457          38                               14   \n...           ...         ...         ...                              ...   \n38467     1464.00    16529904          19                                3   \n38468     1464.00    16529904          19                                3   \n38469     1464.00    16529904          19                                3   \n38470     1464.00    16529904          19                                3   \n38471     1464.00    16529904          19                                3   \n\n             Date  Daily tests    Cases  Deaths  \n0      2020-02-25         8.00      NaN     NaN  \n1      2020-02-26         5.00      NaN     NaN  \n2      2020-02-27         4.00      NaN     NaN  \n3      2020-02-28         1.00      NaN     NaN  \n4      2020-02-29         8.00      NaN     NaN  \n...           ...          ...      ...     ...  \n38467  2021-02-24      1804.00 35960.00 1456.00  \n38468  2021-02-25      2965.00 35994.00 1458.00  \n38469  2021-02-26          NaN 36044.00 1463.00  \n38470  2021-02-27          NaN 36058.00 1463.00  \n38471  2021-02-28          NaN 36089.00 1463.00  \n\n[38472 rows x 15 columns]",
      "text/html": "<div>\n<style scoped>\n    .dataframe tbody tr th:only-of-type {\n        vertical-align: middle;\n    }\n\n    .dataframe tbody tr th {\n        vertical-align: top;\n    }\n\n    .dataframe thead th {\n        text-align: right;\n    }\n</style>\n<table border=\"1\" class=\"dataframe\">\n  <thead>\n    <tr style=\"text-align: right;\">\n      <th></th>\n      <th>Entity</th>\n      <th>Continent</th>\n      <th>Latitude</th>\n      <th>Longitude</th>\n      <th>Average temperature per year</th>\n      <th>Hospital beds per 1000 people</th>\n      <th>Medical doctors per 1000 people</th>\n      <th>GDP/Capita</th>\n      <th>Population</th>\n      <th>Median age</th>\n      <th>Population aged 65 and over (%)</th>\n      <th>Date</th>\n      <th>Daily tests</th>\n      <th>Cases</th>\n      <th>Deaths</th>\n    </tr>\n  </thead>\n  <tbody>\n    <tr>\n      <th>0</th>\n      <td>Albania</td>\n      <td>Europe</td>\n      <td>41.15</td>\n      <td>20.17</td>\n      <td>14</td>\n      <td>2.89</td>\n      <td>1.29</td>\n      <td>5353.20</td>\n      <td>2873457</td>\n      <td>38</td>\n      <td>14</td>\n      <td>2020-02-25</td>\n      <td>8.00</td>\n      <td>NaN</td>\n      <td>NaN</td>\n    </tr>\n    <tr>\n      <th>1</th>\n      <td>Albania</td>\n      <td>Europe</td>\n      <td>41.15</td>\n      <td>20.17</td>\n      <td>14</td>\n      <td>2.89</td>\n      <td>1.29</td>\n      <td>5353.20</td>\n      <td>2873457</td>\n      <td>38</td>\n      <td>14</td>\n      <td>2020-02-26</td>\n      <td>5.00</td>\n      <td>NaN</td>\n      <td>NaN</td>\n    </tr>\n    <tr>\n      <th>2</th>\n      <td>Albania</td>\n      <td>Europe</td>\n      <td>41.15</td>\n      <td>20.17</td>\n      <td>14</td>\n      <td>2.89</td>\n      <td>1.29</td>\n      <td>5353.20</td>\n      <td>2873457</td>\n      <td>38</td>\n      <td>14</td>\n      <td>2020-02-27</td>\n      <td>4.00</td>\n      <td>NaN</td>\n      <td>NaN</td>\n    </tr>\n    <tr>\n      <th>3</th>\n      <td>Albania</td>\n      <td>Europe</td>\n      <td>41.15</td>\n      <td>20.17</td>\n      <td>14</td>\n      <td>2.89</td>\n      <td>1.29</td>\n      <td>5353.20</td>\n      <td>2873457</td>\n      <td>38</td>\n      <td>14</td>\n      <td>2020-02-28</td>\n      <td>1.00</td>\n      <td>NaN</td>\n      <td>NaN</td>\n    </tr>\n    <tr>\n      <th>4</th>\n      <td>Albania</td>\n      <td>Europe</td>\n      <td>41.15</td>\n      <td>20.17</td>\n      <td>14</td>\n      <td>2.89</td>\n      <td>1.29</td>\n      <td>5353.20</td>\n      <td>2873457</td>\n      <td>38</td>\n      <td>14</td>\n      <td>2020-02-29</td>\n      <td>8.00</td>\n      <td>NaN</td>\n      <td>NaN</td>\n    </tr>\n    <tr>\n      <th>...</th>\n      <td>...</td>\n      <td>...</td>\n      <td>...</td>\n      <td>...</td>\n      <td>...</td>\n      <td>...</td>\n      <td>...</td>\n      <td>...</td>\n      <td>...</td>\n      <td>...</td>\n      <td>...</td>\n      <td>...</td>\n      <td>...</td>\n      <td>...</td>\n      <td>...</td>\n    </tr>\n    <tr>\n      <th>38467</th>\n      <td>Zimbabwe</td>\n      <td>Africa</td>\n      <td>-19.02</td>\n      <td>29.15</td>\n      <td>20</td>\n      <td>1.70</td>\n      <td>0.08</td>\n      <td>1464.00</td>\n      <td>16529904</td>\n      <td>19</td>\n      <td>3</td>\n      <td>2021-02-24</td>\n      <td>1804.00</td>\n      <td>35960.00</td>\n      <td>1456.00</td>\n    </tr>\n    <tr>\n      <th>38468</th>\n      <td>Zimbabwe</td>\n      <td>Africa</td>\n      <td>-19.02</td>\n      <td>29.15</td>\n      <td>20</td>\n      <td>1.70</td>\n      <td>0.08</td>\n      <td>1464.00</td>\n      <td>16529904</td>\n      <td>19</td>\n      <td>3</td>\n      <td>2021-02-25</td>\n      <td>2965.00</td>\n      <td>35994.00</td>\n      <td>1458.00</td>\n    </tr>\n    <tr>\n      <th>38469</th>\n      <td>Zimbabwe</td>\n      <td>Africa</td>\n      <td>-19.02</td>\n      <td>29.15</td>\n      <td>20</td>\n      <td>1.70</td>\n      <td>0.08</td>\n      <td>1464.00</td>\n      <td>16529904</td>\n      <td>19</td>\n      <td>3</td>\n      <td>2021-02-26</td>\n      <td>NaN</td>\n      <td>36044.00</td>\n      <td>1463.00</td>\n    </tr>\n    <tr>\n      <th>38470</th>\n      <td>Zimbabwe</td>\n      <td>Africa</td>\n      <td>-19.02</td>\n      <td>29.15</td>\n      <td>20</td>\n      <td>1.70</td>\n      <td>0.08</td>\n      <td>1464.00</td>\n      <td>16529904</td>\n      <td>19</td>\n      <td>3</td>\n      <td>2021-02-27</td>\n      <td>NaN</td>\n      <td>36058.00</td>\n      <td>1463.00</td>\n    </tr>\n    <tr>\n      <th>38471</th>\n      <td>Zimbabwe</td>\n      <td>Africa</td>\n      <td>-19.02</td>\n      <td>29.15</td>\n      <td>20</td>\n      <td>1.70</td>\n      <td>0.08</td>\n      <td>1464.00</td>\n      <td>16529904</td>\n      <td>19</td>\n      <td>3</td>\n      <td>2021-02-28</td>\n      <td>NaN</td>\n      <td>36089.00</td>\n      <td>1463.00</td>\n    </tr>\n  </tbody>\n</table>\n<p>38472 rows × 15 columns</p>\n</div>"
     },
     "execution_count": 25,
     "metadata": {},
     "output_type": "execute_result"
    }
   ],
   "source": [
    "df"
   ],
   "metadata": {
    "collapsed": false,
    "ExecuteTime": {
     "end_time": "2023-09-03T20:25:58.932141500Z",
     "start_time": "2023-09-03T20:25:58.741039500Z"
    }
   },
   "id": "4fd744c8ea64c441"
  },
  {
   "cell_type": "code",
   "execution_count": 26,
   "outputs": [
    {
     "data": {
      "text/plain": "       Latitude  Longitude  Average temperature per year  \\\ncount  38472.00   38472.00                      38472.00   \nmean      23.74      20.21                         17.72   \nstd       26.06      61.07                          8.13   \nmin      -40.90    -106.35                         -2.00   \n25%        8.62      -3.44                         11.00   \n50%       27.51      21.82                         20.00   \n75%       45.94      47.48                         25.00   \nmax       64.96     179.41                         29.00   \n\n       Hospital beds per 1000 people  Medical doctors per 1000 people  \\\ncount                       38472.00                         38472.00   \nmean                            3.17                             2.09   \nstd                             2.56                             1.52   \nmin                             0.20                             0.02   \n25%                             1.40                             0.82   \n50%                             2.50                             1.89   \n75%                             4.49                             3.21   \nmax                            13.05                             7.52   \n\n       GDP/Capita    Population  Median age  Population aged 65 and over (%)  \\\ncount    38472.00      38472.00    38472.00                         38472.00   \nmean     19002.33   48969829.03       32.75                            10.66   \nstd      22271.11  142725118.68        8.47                             6.77   \nmin        411.60     341284.00       16.00                             1.00   \n25%       3659.00    4793900.00       27.00                             5.00   \n50%       8821.80   11484636.00       32.00                             8.00   \n75%      25946.20   42862958.00       41.00                            16.00   \nmax     114704.60 1339180127.00       48.00                            28.00   \n\n       Daily tests       Cases    Deaths  \ncount     30577.00    38218.00  34862.00  \nmean      39440.59   287902.66   8090.50  \nstd      150184.66  1405242.87  29548.75  \nmin     -239172.00        1.00      1.00  \n25%        1505.00     2074.00     77.00  \n50%        5520.00    21431.00    527.00  \n75%       20382.00   137377.00   3480.50  \nmax     2945871.00 28605669.00 513091.00  ",
      "text/html": "<div>\n<style scoped>\n    .dataframe tbody tr th:only-of-type {\n        vertical-align: middle;\n    }\n\n    .dataframe tbody tr th {\n        vertical-align: top;\n    }\n\n    .dataframe thead th {\n        text-align: right;\n    }\n</style>\n<table border=\"1\" class=\"dataframe\">\n  <thead>\n    <tr style=\"text-align: right;\">\n      <th></th>\n      <th>Latitude</th>\n      <th>Longitude</th>\n      <th>Average temperature per year</th>\n      <th>Hospital beds per 1000 people</th>\n      <th>Medical doctors per 1000 people</th>\n      <th>GDP/Capita</th>\n      <th>Population</th>\n      <th>Median age</th>\n      <th>Population aged 65 and over (%)</th>\n      <th>Daily tests</th>\n      <th>Cases</th>\n      <th>Deaths</th>\n    </tr>\n  </thead>\n  <tbody>\n    <tr>\n      <th>count</th>\n      <td>38472.00</td>\n      <td>38472.00</td>\n      <td>38472.00</td>\n      <td>38472.00</td>\n      <td>38472.00</td>\n      <td>38472.00</td>\n      <td>38472.00</td>\n      <td>38472.00</td>\n      <td>38472.00</td>\n      <td>30577.00</td>\n      <td>38218.00</td>\n      <td>34862.00</td>\n    </tr>\n    <tr>\n      <th>mean</th>\n      <td>23.74</td>\n      <td>20.21</td>\n      <td>17.72</td>\n      <td>3.17</td>\n      <td>2.09</td>\n      <td>19002.33</td>\n      <td>48969829.03</td>\n      <td>32.75</td>\n      <td>10.66</td>\n      <td>39440.59</td>\n      <td>287902.66</td>\n      <td>8090.50</td>\n    </tr>\n    <tr>\n      <th>std</th>\n      <td>26.06</td>\n      <td>61.07</td>\n      <td>8.13</td>\n      <td>2.56</td>\n      <td>1.52</td>\n      <td>22271.11</td>\n      <td>142725118.68</td>\n      <td>8.47</td>\n      <td>6.77</td>\n      <td>150184.66</td>\n      <td>1405242.87</td>\n      <td>29548.75</td>\n    </tr>\n    <tr>\n      <th>min</th>\n      <td>-40.90</td>\n      <td>-106.35</td>\n      <td>-2.00</td>\n      <td>0.20</td>\n      <td>0.02</td>\n      <td>411.60</td>\n      <td>341284.00</td>\n      <td>16.00</td>\n      <td>1.00</td>\n      <td>-239172.00</td>\n      <td>1.00</td>\n      <td>1.00</td>\n    </tr>\n    <tr>\n      <th>25%</th>\n      <td>8.62</td>\n      <td>-3.44</td>\n      <td>11.00</td>\n      <td>1.40</td>\n      <td>0.82</td>\n      <td>3659.00</td>\n      <td>4793900.00</td>\n      <td>27.00</td>\n      <td>5.00</td>\n      <td>1505.00</td>\n      <td>2074.00</td>\n      <td>77.00</td>\n    </tr>\n    <tr>\n      <th>50%</th>\n      <td>27.51</td>\n      <td>21.82</td>\n      <td>20.00</td>\n      <td>2.50</td>\n      <td>1.89</td>\n      <td>8821.80</td>\n      <td>11484636.00</td>\n      <td>32.00</td>\n      <td>8.00</td>\n      <td>5520.00</td>\n      <td>21431.00</td>\n      <td>527.00</td>\n    </tr>\n    <tr>\n      <th>75%</th>\n      <td>45.94</td>\n      <td>47.48</td>\n      <td>25.00</td>\n      <td>4.49</td>\n      <td>3.21</td>\n      <td>25946.20</td>\n      <td>42862958.00</td>\n      <td>41.00</td>\n      <td>16.00</td>\n      <td>20382.00</td>\n      <td>137377.00</td>\n      <td>3480.50</td>\n    </tr>\n    <tr>\n      <th>max</th>\n      <td>64.96</td>\n      <td>179.41</td>\n      <td>29.00</td>\n      <td>13.05</td>\n      <td>7.52</td>\n      <td>114704.60</td>\n      <td>1339180127.00</td>\n      <td>48.00</td>\n      <td>28.00</td>\n      <td>2945871.00</td>\n      <td>28605669.00</td>\n      <td>513091.00</td>\n    </tr>\n  </tbody>\n</table>\n</div>"
     },
     "execution_count": 26,
     "metadata": {},
     "output_type": "execute_result"
    }
   ],
   "source": [
    "df.describe()"
   ],
   "metadata": {
    "collapsed": false,
    "ExecuteTime": {
     "end_time": "2023-09-03T20:25:58.956908800Z",
     "start_time": "2023-09-03T20:25:58.759368600Z"
    }
   },
   "id": "8c3b5aa7782b903b"
  },
  {
   "cell_type": "code",
   "execution_count": 27,
   "outputs": [
    {
     "name": "stdout",
     "output_type": "stream",
     "text": [
      "<class 'pandas.core.frame.DataFrame'>\n",
      "RangeIndex: 38472 entries, 0 to 38471\n",
      "Data columns (total 15 columns):\n",
      " #   Column                           Non-Null Count  Dtype  \n",
      "---  ------                           --------------  -----  \n",
      " 0   Entity                           38472 non-null  object \n",
      " 1   Continent                        38472 non-null  object \n",
      " 2   Latitude                         38472 non-null  float64\n",
      " 3   Longitude                        38472 non-null  float64\n",
      " 4   Average temperature per year     38472 non-null  int64  \n",
      " 5   Hospital beds per 1000 people    38472 non-null  float64\n",
      " 6   Medical doctors per 1000 people  38472 non-null  float64\n",
      " 7   GDP/Capita                       38472 non-null  float64\n",
      " 8   Population                       38472 non-null  int64  \n",
      " 9   Median age                       38472 non-null  int64  \n",
      " 10  Population aged 65 and over (%)  38472 non-null  int64  \n",
      " 11  Date                             38472 non-null  object \n",
      " 12  Daily tests                      30577 non-null  float64\n",
      " 13  Cases                            38218 non-null  float64\n",
      " 14  Deaths                           34862 non-null  float64\n",
      "dtypes: float64(8), int64(4), object(3)\n",
      "memory usage: 4.4+ MB\n"
     ]
    }
   ],
   "source": [
    "df.info()"
   ],
   "metadata": {
    "collapsed": false,
    "ExecuteTime": {
     "end_time": "2023-09-03T20:25:58.957909800Z",
     "start_time": "2023-09-03T20:25:58.797456800Z"
    }
   },
   "id": "783f525a4777466c"
  },
  {
   "cell_type": "markdown",
   "source": [
    "### Observations\n",
    "\n",
    "From an initial inspection, we can observe that:\n",
    "\n",
    "* The `Daily tests` column has a lot of missing values.\n",
    "* The `Cases` and `Deaths` columns have some missing values.\n",
    "* The `Daily tests` column has some negative values, which would be impossible."
   ],
   "metadata": {
    "collapsed": false
   },
   "id": "4268ca3f6749860a"
  },
  {
   "cell_type": "markdown",
   "source": [
    "## Handling the negative values\n",
    "\n",
    "In the context of this dataset, negative values in the `Daily tests` column are impossible. Therefore, we'll have to\n",
    "deal with them. As a first step, we'll replace them with NaN values, and then we'll handle them later along with the\n",
    "other missing values."
   ],
   "metadata": {
    "collapsed": false
   },
   "id": "7eb87338429f7cf0"
  },
  {
   "cell_type": "code",
   "execution_count": 28,
   "outputs": [],
   "source": [
    "df.loc[df['Daily tests'] < 0, 'Daily tests'] = np.nan"
   ],
   "metadata": {
    "collapsed": false,
    "ExecuteTime": {
     "end_time": "2023-09-03T20:25:58.957909800Z",
     "start_time": "2023-09-03T20:25:58.812620300Z"
    }
   },
   "id": "a7eb564672bfccda"
  },
  {
   "cell_type": "markdown",
   "source": [
    "## Handling the missing values\n",
    "\n",
    "### Replace with zeros\n",
    "\n",
    "In the `Deaths` and `Cases` columns there the missing values, but they take up only the first few rows of each \n",
    "country. Therefore, we can safely assume that the missing values actually represent 0, and we can replace them.\n",
    "\n",
    "In the `Daily tests` column there are a lot more missing values, and they're scattered throughout the dataset for \n",
    "each country. Assuming they're all 0 is therefore not an option."
   ],
   "metadata": {
    "collapsed": false
   },
   "id": "4772882040f5af3f"
  },
  {
   "cell_type": "code",
   "execution_count": 29,
   "outputs": [],
   "source": [
    "df['Cases'].fillna(0, inplace=True)\n",
    "df['Deaths'].fillna(0, inplace=True)"
   ],
   "metadata": {
    "collapsed": false,
    "ExecuteTime": {
     "end_time": "2023-09-03T20:25:58.957909800Z",
     "start_time": "2023-09-03T20:25:58.818814400Z"
    }
   },
   "id": "4da270b6a28c4ab9"
  },
  {
   "cell_type": "code",
   "execution_count": 30,
   "outputs": [],
   "source": [
    "df['Cases'] = df.groupby('Entity')['Cases'].transform('cummax')\n",
    "df['Deaths'] = df.groupby('Entity')['Deaths'].transform('cummax')"
   ],
   "metadata": {
    "collapsed": false,
    "ExecuteTime": {
     "end_time": "2023-09-03T20:25:58.959232900Z",
     "start_time": "2023-09-03T20:25:58.826767600Z"
    }
   },
   "id": "d4f36664c134238f"
  },
  {
   "cell_type": "markdown",
   "source": [
    "### Add columns\n",
    "\n",
    "Since we've dealt with the missing values in the `Cases` and `Deaths` columns, we can now calculate and add the\n",
    "`Daily cases` and `Daily deaths` columns, which will be useful later."
   ],
   "metadata": {
    "collapsed": false
   },
   "id": "1939089e3c482994"
  },
  {
   "cell_type": "code",
   "execution_count": 31,
   "outputs": [],
   "source": [
    "df['Daily cases'] = df.groupby('Entity')['Cases'].diff().fillna(0)\n",
    "df['Daily deaths'] = df.groupby('Entity')['Deaths'].diff().fillna(0)"
   ],
   "metadata": {
    "collapsed": false,
    "ExecuteTime": {
     "end_time": "2023-09-03T20:25:58.981062900Z",
     "start_time": "2023-09-03T20:25:58.840381200Z"
    }
   },
   "id": "b373df38e66fb45d"
  },
  {
   "cell_type": "markdown",
   "source": [
    "### Interpolate the missing values\n",
    "\n",
    "For the `Daily tests` column, we'll first try to fill in the smaller gaps with linear interpolation. To do this, we'll\n",
    "group the data by country, and then interpolate the missing values for each country separately, applying a limit of 3\n",
    "consecutive missing values."
   ],
   "metadata": {
    "collapsed": false
   },
   "id": "d1c36e3f79564e03"
  },
  {
   "cell_type": "code",
   "execution_count": 32,
   "outputs": [
    {
     "data": {
      "text/plain": "         Entity Continent  Latitude  Longitude  Average temperature per year  \\\n0       Albania    Europe     41.15      20.17                            14   \n1       Albania    Europe     41.15      20.17                            14   \n2       Albania    Europe     41.15      20.17                            14   \n3       Albania    Europe     41.15      20.17                            14   \n4       Albania    Europe     41.15      20.17                            14   \n...         ...       ...       ...        ...                           ...   \n38467  Zimbabwe    Africa    -19.02      29.15                            20   \n38468  Zimbabwe    Africa    -19.02      29.15                            20   \n38469  Zimbabwe    Africa    -19.02      29.15                            20   \n38470  Zimbabwe    Africa    -19.02      29.15                            20   \n38471  Zimbabwe    Africa    -19.02      29.15                            20   \n\n       Hospital beds per 1000 people  Medical doctors per 1000 people  \\\n0                               2.89                             1.29   \n1                               2.89                             1.29   \n2                               2.89                             1.29   \n3                               2.89                             1.29   \n4                               2.89                             1.29   \n...                              ...                              ...   \n38467                           1.70                             0.08   \n38468                           1.70                             0.08   \n38469                           1.70                             0.08   \n38470                           1.70                             0.08   \n38471                           1.70                             0.08   \n\n       GDP/Capita  Population  Median age  Population aged 65 and over (%)  \\\n0         5353.20     2873457          38                               14   \n1         5353.20     2873457          38                               14   \n2         5353.20     2873457          38                               14   \n3         5353.20     2873457          38                               14   \n4         5353.20     2873457          38                               14   \n...           ...         ...         ...                              ...   \n38467     1464.00    16529904          19                                3   \n38468     1464.00    16529904          19                                3   \n38469     1464.00    16529904          19                                3   \n38470     1464.00    16529904          19                                3   \n38471     1464.00    16529904          19                                3   \n\n             Date  Daily tests    Cases  Deaths  Daily cases  Daily deaths  \n0      2020-02-25         8.00     0.00    0.00         0.00          0.00  \n1      2020-02-26         5.00     0.00    0.00         0.00          0.00  \n2      2020-02-27         4.00     0.00    0.00         0.00          0.00  \n3      2020-02-28         1.00     0.00    0.00         0.00          0.00  \n4      2020-02-29         8.00     0.00    0.00         0.00          0.00  \n...           ...          ...      ...     ...          ...           ...  \n38467  2021-02-24      1804.00 35960.00 1456.00        50.00          8.00  \n38468  2021-02-25      2965.00 35994.00 1458.00        34.00          2.00  \n38469  2021-02-26          NaN 36044.00 1463.00        50.00          5.00  \n38470  2021-02-27          NaN 36058.00 1463.00        14.00          0.00  \n38471  2021-02-28          NaN 36089.00 1463.00        31.00          0.00  \n\n[38472 rows x 17 columns]",
      "text/html": "<div>\n<style scoped>\n    .dataframe tbody tr th:only-of-type {\n        vertical-align: middle;\n    }\n\n    .dataframe tbody tr th {\n        vertical-align: top;\n    }\n\n    .dataframe thead th {\n        text-align: right;\n    }\n</style>\n<table border=\"1\" class=\"dataframe\">\n  <thead>\n    <tr style=\"text-align: right;\">\n      <th></th>\n      <th>Entity</th>\n      <th>Continent</th>\n      <th>Latitude</th>\n      <th>Longitude</th>\n      <th>Average temperature per year</th>\n      <th>Hospital beds per 1000 people</th>\n      <th>Medical doctors per 1000 people</th>\n      <th>GDP/Capita</th>\n      <th>Population</th>\n      <th>Median age</th>\n      <th>Population aged 65 and over (%)</th>\n      <th>Date</th>\n      <th>Daily tests</th>\n      <th>Cases</th>\n      <th>Deaths</th>\n      <th>Daily cases</th>\n      <th>Daily deaths</th>\n    </tr>\n  </thead>\n  <tbody>\n    <tr>\n      <th>0</th>\n      <td>Albania</td>\n      <td>Europe</td>\n      <td>41.15</td>\n      <td>20.17</td>\n      <td>14</td>\n      <td>2.89</td>\n      <td>1.29</td>\n      <td>5353.20</td>\n      <td>2873457</td>\n      <td>38</td>\n      <td>14</td>\n      <td>2020-02-25</td>\n      <td>8.00</td>\n      <td>0.00</td>\n      <td>0.00</td>\n      <td>0.00</td>\n      <td>0.00</td>\n    </tr>\n    <tr>\n      <th>1</th>\n      <td>Albania</td>\n      <td>Europe</td>\n      <td>41.15</td>\n      <td>20.17</td>\n      <td>14</td>\n      <td>2.89</td>\n      <td>1.29</td>\n      <td>5353.20</td>\n      <td>2873457</td>\n      <td>38</td>\n      <td>14</td>\n      <td>2020-02-26</td>\n      <td>5.00</td>\n      <td>0.00</td>\n      <td>0.00</td>\n      <td>0.00</td>\n      <td>0.00</td>\n    </tr>\n    <tr>\n      <th>2</th>\n      <td>Albania</td>\n      <td>Europe</td>\n      <td>41.15</td>\n      <td>20.17</td>\n      <td>14</td>\n      <td>2.89</td>\n      <td>1.29</td>\n      <td>5353.20</td>\n      <td>2873457</td>\n      <td>38</td>\n      <td>14</td>\n      <td>2020-02-27</td>\n      <td>4.00</td>\n      <td>0.00</td>\n      <td>0.00</td>\n      <td>0.00</td>\n      <td>0.00</td>\n    </tr>\n    <tr>\n      <th>3</th>\n      <td>Albania</td>\n      <td>Europe</td>\n      <td>41.15</td>\n      <td>20.17</td>\n      <td>14</td>\n      <td>2.89</td>\n      <td>1.29</td>\n      <td>5353.20</td>\n      <td>2873457</td>\n      <td>38</td>\n      <td>14</td>\n      <td>2020-02-28</td>\n      <td>1.00</td>\n      <td>0.00</td>\n      <td>0.00</td>\n      <td>0.00</td>\n      <td>0.00</td>\n    </tr>\n    <tr>\n      <th>4</th>\n      <td>Albania</td>\n      <td>Europe</td>\n      <td>41.15</td>\n      <td>20.17</td>\n      <td>14</td>\n      <td>2.89</td>\n      <td>1.29</td>\n      <td>5353.20</td>\n      <td>2873457</td>\n      <td>38</td>\n      <td>14</td>\n      <td>2020-02-29</td>\n      <td>8.00</td>\n      <td>0.00</td>\n      <td>0.00</td>\n      <td>0.00</td>\n      <td>0.00</td>\n    </tr>\n    <tr>\n      <th>...</th>\n      <td>...</td>\n      <td>...</td>\n      <td>...</td>\n      <td>...</td>\n      <td>...</td>\n      <td>...</td>\n      <td>...</td>\n      <td>...</td>\n      <td>...</td>\n      <td>...</td>\n      <td>...</td>\n      <td>...</td>\n      <td>...</td>\n      <td>...</td>\n      <td>...</td>\n      <td>...</td>\n      <td>...</td>\n    </tr>\n    <tr>\n      <th>38467</th>\n      <td>Zimbabwe</td>\n      <td>Africa</td>\n      <td>-19.02</td>\n      <td>29.15</td>\n      <td>20</td>\n      <td>1.70</td>\n      <td>0.08</td>\n      <td>1464.00</td>\n      <td>16529904</td>\n      <td>19</td>\n      <td>3</td>\n      <td>2021-02-24</td>\n      <td>1804.00</td>\n      <td>35960.00</td>\n      <td>1456.00</td>\n      <td>50.00</td>\n      <td>8.00</td>\n    </tr>\n    <tr>\n      <th>38468</th>\n      <td>Zimbabwe</td>\n      <td>Africa</td>\n      <td>-19.02</td>\n      <td>29.15</td>\n      <td>20</td>\n      <td>1.70</td>\n      <td>0.08</td>\n      <td>1464.00</td>\n      <td>16529904</td>\n      <td>19</td>\n      <td>3</td>\n      <td>2021-02-25</td>\n      <td>2965.00</td>\n      <td>35994.00</td>\n      <td>1458.00</td>\n      <td>34.00</td>\n      <td>2.00</td>\n    </tr>\n    <tr>\n      <th>38469</th>\n      <td>Zimbabwe</td>\n      <td>Africa</td>\n      <td>-19.02</td>\n      <td>29.15</td>\n      <td>20</td>\n      <td>1.70</td>\n      <td>0.08</td>\n      <td>1464.00</td>\n      <td>16529904</td>\n      <td>19</td>\n      <td>3</td>\n      <td>2021-02-26</td>\n      <td>NaN</td>\n      <td>36044.00</td>\n      <td>1463.00</td>\n      <td>50.00</td>\n      <td>5.00</td>\n    </tr>\n    <tr>\n      <th>38470</th>\n      <td>Zimbabwe</td>\n      <td>Africa</td>\n      <td>-19.02</td>\n      <td>29.15</td>\n      <td>20</td>\n      <td>1.70</td>\n      <td>0.08</td>\n      <td>1464.00</td>\n      <td>16529904</td>\n      <td>19</td>\n      <td>3</td>\n      <td>2021-02-27</td>\n      <td>NaN</td>\n      <td>36058.00</td>\n      <td>1463.00</td>\n      <td>14.00</td>\n      <td>0.00</td>\n    </tr>\n    <tr>\n      <th>38471</th>\n      <td>Zimbabwe</td>\n      <td>Africa</td>\n      <td>-19.02</td>\n      <td>29.15</td>\n      <td>20</td>\n      <td>1.70</td>\n      <td>0.08</td>\n      <td>1464.00</td>\n      <td>16529904</td>\n      <td>19</td>\n      <td>3</td>\n      <td>2021-02-28</td>\n      <td>NaN</td>\n      <td>36089.00</td>\n      <td>1463.00</td>\n      <td>31.00</td>\n      <td>0.00</td>\n    </tr>\n  </tbody>\n</table>\n<p>38472 rows × 17 columns</p>\n</div>"
     },
     "execution_count": 32,
     "metadata": {},
     "output_type": "execute_result"
    }
   ],
   "source": [
    "df['Daily tests'] = (df.groupby('Entity')['Daily tests']\n",
    "                     .transform(lambda x: x.interpolate(method='linear', limit_area='inside', limit=3)))\n",
    "\n",
    "df"
   ],
   "metadata": {
    "collapsed": false,
    "ExecuteTime": {
     "end_time": "2023-09-03T20:25:58.983287900Z",
     "start_time": "2023-09-03T20:25:58.852171900Z"
    }
   },
   "id": "5e479852990d90ee"
  },
  {
   "cell_type": "markdown",
   "source": [
    "### Find edge-cases\n",
    "\n",
    "Some countries might be missing a lot of values in the `Daily tests` column, so it wouldn't be accurate enough to try\n",
    "and guess them. It's better to drop any edge-cases we find before we proceed."
   ],
   "metadata": {
    "collapsed": false
   },
   "id": "2cc9a2a6b9c5bf79"
  },
  {
   "cell_type": "code",
   "execution_count": 33,
   "outputs": [
    {
     "data": {
      "text/plain": "             Entity  Daily tests\nEntity                          \nAlgeria        0.00        97.57\nOman           0.00        83.56\nVietnam        0.00        76.67\nArmenia        0.00        74.25\nBelarus        0.00        74.11\n...             ...          ...\nIsrael         0.00         0.80\nSlovenia       0.00         0.80\nDenmark        0.00         0.80\nSwitzerland    0.00         0.75\nLatvia         0.00         0.55\n\n[104 rows x 2 columns]",
      "text/html": "<div>\n<style scoped>\n    .dataframe tbody tr th:only-of-type {\n        vertical-align: middle;\n    }\n\n    .dataframe tbody tr th {\n        vertical-align: top;\n    }\n\n    .dataframe thead th {\n        text-align: right;\n    }\n</style>\n<table border=\"1\" class=\"dataframe\">\n  <thead>\n    <tr style=\"text-align: right;\">\n      <th></th>\n      <th>Entity</th>\n      <th>Daily tests</th>\n    </tr>\n    <tr>\n      <th>Entity</th>\n      <th></th>\n      <th></th>\n    </tr>\n  </thead>\n  <tbody>\n    <tr>\n      <th>Algeria</th>\n      <td>0.00</td>\n      <td>97.57</td>\n    </tr>\n    <tr>\n      <th>Oman</th>\n      <td>0.00</td>\n      <td>83.56</td>\n    </tr>\n    <tr>\n      <th>Vietnam</th>\n      <td>0.00</td>\n      <td>76.67</td>\n    </tr>\n    <tr>\n      <th>Armenia</th>\n      <td>0.00</td>\n      <td>74.25</td>\n    </tr>\n    <tr>\n      <th>Belarus</th>\n      <td>0.00</td>\n      <td>74.11</td>\n    </tr>\n    <tr>\n      <th>...</th>\n      <td>...</td>\n      <td>...</td>\n    </tr>\n    <tr>\n      <th>Israel</th>\n      <td>0.00</td>\n      <td>0.80</td>\n    </tr>\n    <tr>\n      <th>Slovenia</th>\n      <td>0.00</td>\n      <td>0.80</td>\n    </tr>\n    <tr>\n      <th>Denmark</th>\n      <td>0.00</td>\n      <td>0.80</td>\n    </tr>\n    <tr>\n      <th>Switzerland</th>\n      <td>0.00</td>\n      <td>0.75</td>\n    </tr>\n    <tr>\n      <th>Latvia</th>\n      <td>0.00</td>\n      <td>0.55</td>\n    </tr>\n  </tbody>\n</table>\n<p>104 rows × 2 columns</p>\n</div>"
     },
     "execution_count": 33,
     "metadata": {},
     "output_type": "execute_result"
    }
   ],
   "source": [
    "nan_df = (df[['Entity', 'Daily tests']]\n",
    "          .groupby('Entity')\n",
    "          .apply(lambda x: x.isna().mean() * 100)\n",
    "          .sort_values(by='Daily tests', ascending=False))\n",
    "nan_df"
   ],
   "metadata": {
    "collapsed": false,
    "ExecuteTime": {
     "end_time": "2023-09-03T20:25:59.073572900Z",
     "start_time": "2023-09-03T20:25:58.923792400Z"
    }
   },
   "id": "9702348c3f5e7596"
  },
  {
   "cell_type": "markdown",
   "source": [
    "### Drop the edge-cases\n",
    "\n",
    "We will treat all countries with more than 40% missing values in the `Daily tests` column as edge-cases and drop them."
   ],
   "metadata": {
    "collapsed": false
   },
   "id": "506bede838931c24"
  },
  {
   "cell_type": "code",
   "execution_count": 34,
   "outputs": [],
   "source": [
    "countries_to_drop = nan_df[(nan_df['Daily tests'] > 40)].index.tolist()\n",
    "\n",
    "df = df[~df['Entity'].isin(countries_to_drop)].copy()\n",
    "\n",
    "df.reset_index(drop=True, inplace=True)"
   ],
   "metadata": {
    "collapsed": false,
    "ExecuteTime": {
     "end_time": "2023-09-03T20:25:59.197594500Z",
     "start_time": "2023-09-03T20:25:58.997041500Z"
    }
   },
   "id": "bd6ea697cdc69729"
  },
  {
   "cell_type": "markdown",
   "source": [
    "### Replace with the average ratio\n",
    "\n",
    "For the remaining missing values in the `Daily tests` column, we'll try to fill them in based on the average ratio\n",
    "between the `Daily tests` and `Daily cases` columns for each country. We'll first calculate the average ratio for each\n",
    "country, and then we'll use it to fill in the missing values. This method should leave no missing values behind."
   ],
   "metadata": {
    "collapsed": false
   },
   "id": "c0790ad00660bc9f"
  },
  {
   "cell_type": "code",
   "execution_count": 35,
   "outputs": [],
   "source": [
    "avg_ratios = df.groupby('Entity').apply(ut.compute_avg_ratio)\n",
    "\n",
    "df['Daily tests'] = df.apply(lambda x: ut.fill_na_based_on_ratio(x, avg_ratios), axis=1)"
   ],
   "metadata": {
    "collapsed": false,
    "ExecuteTime": {
     "end_time": "2023-09-03T20:25:59.449880200Z",
     "start_time": "2023-09-03T20:25:59.013091200Z"
    }
   },
   "id": "fd05c79846724d20"
  },
  {
   "cell_type": "markdown",
   "source": [
    "## Add columns \n",
    "\n",
    "We will add some additional columns that we will need later."
   ],
   "metadata": {
    "collapsed": false
   },
   "id": "61f4ea55e85d16e5"
  },
  {
   "cell_type": "code",
   "execution_count": 36,
   "outputs": [],
   "source": [
    "df['Daily tests'] = df['Daily tests'].round(0)\n",
    "df['Tests'] = df.groupby('Entity')['Daily tests'].cumsum()"
   ],
   "metadata": {
    "collapsed": false,
    "ExecuteTime": {
     "end_time": "2023-09-03T20:25:59.449880200Z",
     "start_time": "2023-09-03T20:25:59.326019200Z"
    }
   },
   "id": "efcad5f396a88458"
  },
  {
   "cell_type": "markdown",
   "source": [
    "## Save the preprocessed data\n",
    "\n",
    "We will save the preprocessed data to a csv file to use it later."
   ],
   "metadata": {
    "collapsed": false
   },
   "id": "b8043f3a756c3b98"
  },
  {
   "cell_type": "code",
   "execution_count": 37,
   "outputs": [],
   "source": [
    "df.to_csv(\"../data/pp_data.csv\", index=False)"
   ],
   "metadata": {
    "collapsed": false,
    "ExecuteTime": {
     "end_time": "2023-09-03T20:25:59.638176100Z",
     "start_time": "2023-09-03T20:25:59.336831800Z"
    }
   },
   "id": "98ddbe1ff61ecad6"
  },
  {
   "cell_type": "markdown",
   "source": [
    "## Compute the summary data for each country"
   ],
   "metadata": {
    "collapsed": false
   },
   "id": "fa9bf26a463b53b4"
  },
  {
   "cell_type": "code",
   "execution_count": 52,
   "outputs": [
    {
     "data": {
      "text/plain": "                    Continent  Latitude  Longitude  \\\nEntity                                               \nAlbania                Europe     41.15      20.17   \nArgentina       South America    -38.42     -63.62   \nAustralia             Oceania    -25.27     133.78   \nAustria                Europe     47.52      14.55   \nBahrain                  Asia     25.93      50.64   \n...                       ...       ...        ...   \nUnited Kingdom         Europe     55.38      -3.44   \nUnited States   North America     37.09     -95.71   \nUruguay         South America    -32.52     -55.77   \nZambia                 Africa    -13.13      27.85   \nZimbabwe               Africa    -19.02      29.15   \n\n                Average temperature per year  Hospital beds per 1000 people  \\\nEntity                                                                        \nAlbania                                   14                           2.89   \nArgentina                                 14                           5.00   \nAustralia                                 22                           3.84   \nAustria                                    8                           7.37   \nBahrain                                   27                           2.00   \n...                                      ...                            ...   \nUnited Kingdom                             8                           2.54   \nUnited States                             11                           2.77   \nUruguay                                   16                           2.80   \nZambia                                    21                           2.00   \nZimbabwe                                  20                           1.70   \n\n                Medical doctors per 1000 people  GDP/Capita  Population  \\\nEntity                                                                    \nAlbania                                    1.29     5353.20     2873457   \nArgentina                                  3.91     9912.30    44271041   \nAustralia                                  3.50    55060.30    24598933   \nAustria                                    5.23    50137.70     8809212   \nBahrain                                    0.92    23504.00     1492584   \n...                                         ...         ...         ...   \nUnited Kingdom                             2.82    42330.10    66022273   \nUnited States                              2.57    65297.50   325719178   \nUruguay                                    3.74    16190.10     3456750   \nZambia                                     0.09     1305.10    17094130   \nZimbabwe                                   0.08     1464.00    16529904   \n\n                Median age  Population aged 65 and over (%)        Date  \\\nEntity                                                                    \nAlbania                 38                               14  2020-02-25   \nArgentina               31                               11  2020-01-01   \nAustralia               37                               16  2020-01-26   \nAustria                 44                               19  2020-02-25   \nBahrain                 32                                2  2020-02-24   \n...                    ...                              ...         ...   \nUnited Kingdom          40                               18  2020-01-31   \nUnited States           38                               16  2020-01-22   \nUruguay                 35                               15  2020-03-13   \nZambia                  17                                2  2020-03-18   \nZimbabwe                19                                3  2020-03-20   \n\n                Daily tests  Cases  Deaths  Daily cases  Daily deaths  Tests  \nEntity                                                                        \nAlbania                8.00   0.00    0.00         0.00          0.00   8.00  \nArgentina              4.00   0.00    0.00         0.00          0.00   4.00  \nAustralia            593.00   4.00    0.00         0.00          0.00 593.00  \nAustria               35.00   2.00    0.00         0.00          0.00  35.00  \nBahrain               29.00   1.00    0.00         0.00          0.00  29.00  \n...                     ...    ...     ...          ...           ...    ...  \nUnited Kingdom        24.00   2.00    0.00         0.00          0.00  24.00  \nUnited States         13.00   1.00    0.00         0.00          0.00  13.00  \nUruguay               18.00   4.00    0.00         0.00          0.00  18.00  \nZambia                14.00   2.00    0.00         0.00          0.00  14.00  \nZimbabwe              12.00   1.00    0.00         0.00          0.00  12.00  \n\n[93 rows x 17 columns]",
      "text/html": "<div>\n<style scoped>\n    .dataframe tbody tr th:only-of-type {\n        vertical-align: middle;\n    }\n\n    .dataframe tbody tr th {\n        vertical-align: top;\n    }\n\n    .dataframe thead th {\n        text-align: right;\n    }\n</style>\n<table border=\"1\" class=\"dataframe\">\n  <thead>\n    <tr style=\"text-align: right;\">\n      <th></th>\n      <th>Continent</th>\n      <th>Latitude</th>\n      <th>Longitude</th>\n      <th>Average temperature per year</th>\n      <th>Hospital beds per 1000 people</th>\n      <th>Medical doctors per 1000 people</th>\n      <th>GDP/Capita</th>\n      <th>Population</th>\n      <th>Median age</th>\n      <th>Population aged 65 and over (%)</th>\n      <th>Date</th>\n      <th>Daily tests</th>\n      <th>Cases</th>\n      <th>Deaths</th>\n      <th>Daily cases</th>\n      <th>Daily deaths</th>\n      <th>Tests</th>\n    </tr>\n    <tr>\n      <th>Entity</th>\n      <th></th>\n      <th></th>\n      <th></th>\n      <th></th>\n      <th></th>\n      <th></th>\n      <th></th>\n      <th></th>\n      <th></th>\n      <th></th>\n      <th></th>\n      <th></th>\n      <th></th>\n      <th></th>\n      <th></th>\n      <th></th>\n      <th></th>\n    </tr>\n  </thead>\n  <tbody>\n    <tr>\n      <th>Albania</th>\n      <td>Europe</td>\n      <td>41.15</td>\n      <td>20.17</td>\n      <td>14</td>\n      <td>2.89</td>\n      <td>1.29</td>\n      <td>5353.20</td>\n      <td>2873457</td>\n      <td>38</td>\n      <td>14</td>\n      <td>2020-02-25</td>\n      <td>8.00</td>\n      <td>0.00</td>\n      <td>0.00</td>\n      <td>0.00</td>\n      <td>0.00</td>\n      <td>8.00</td>\n    </tr>\n    <tr>\n      <th>Argentina</th>\n      <td>South America</td>\n      <td>-38.42</td>\n      <td>-63.62</td>\n      <td>14</td>\n      <td>5.00</td>\n      <td>3.91</td>\n      <td>9912.30</td>\n      <td>44271041</td>\n      <td>31</td>\n      <td>11</td>\n      <td>2020-01-01</td>\n      <td>4.00</td>\n      <td>0.00</td>\n      <td>0.00</td>\n      <td>0.00</td>\n      <td>0.00</td>\n      <td>4.00</td>\n    </tr>\n    <tr>\n      <th>Australia</th>\n      <td>Oceania</td>\n      <td>-25.27</td>\n      <td>133.78</td>\n      <td>22</td>\n      <td>3.84</td>\n      <td>3.50</td>\n      <td>55060.30</td>\n      <td>24598933</td>\n      <td>37</td>\n      <td>16</td>\n      <td>2020-01-26</td>\n      <td>593.00</td>\n      <td>4.00</td>\n      <td>0.00</td>\n      <td>0.00</td>\n      <td>0.00</td>\n      <td>593.00</td>\n    </tr>\n    <tr>\n      <th>Austria</th>\n      <td>Europe</td>\n      <td>47.52</td>\n      <td>14.55</td>\n      <td>8</td>\n      <td>7.37</td>\n      <td>5.23</td>\n      <td>50137.70</td>\n      <td>8809212</td>\n      <td>44</td>\n      <td>19</td>\n      <td>2020-02-25</td>\n      <td>35.00</td>\n      <td>2.00</td>\n      <td>0.00</td>\n      <td>0.00</td>\n      <td>0.00</td>\n      <td>35.00</td>\n    </tr>\n    <tr>\n      <th>Bahrain</th>\n      <td>Asia</td>\n      <td>25.93</td>\n      <td>50.64</td>\n      <td>27</td>\n      <td>2.00</td>\n      <td>0.92</td>\n      <td>23504.00</td>\n      <td>1492584</td>\n      <td>32</td>\n      <td>2</td>\n      <td>2020-02-24</td>\n      <td>29.00</td>\n      <td>1.00</td>\n      <td>0.00</td>\n      <td>0.00</td>\n      <td>0.00</td>\n      <td>29.00</td>\n    </tr>\n    <tr>\n      <th>...</th>\n      <td>...</td>\n      <td>...</td>\n      <td>...</td>\n      <td>...</td>\n      <td>...</td>\n      <td>...</td>\n      <td>...</td>\n      <td>...</td>\n      <td>...</td>\n      <td>...</td>\n      <td>...</td>\n      <td>...</td>\n      <td>...</td>\n      <td>...</td>\n      <td>...</td>\n      <td>...</td>\n      <td>...</td>\n    </tr>\n    <tr>\n      <th>United Kingdom</th>\n      <td>Europe</td>\n      <td>55.38</td>\n      <td>-3.44</td>\n      <td>8</td>\n      <td>2.54</td>\n      <td>2.82</td>\n      <td>42330.10</td>\n      <td>66022273</td>\n      <td>40</td>\n      <td>18</td>\n      <td>2020-01-31</td>\n      <td>24.00</td>\n      <td>2.00</td>\n      <td>0.00</td>\n      <td>0.00</td>\n      <td>0.00</td>\n      <td>24.00</td>\n    </tr>\n    <tr>\n      <th>United States</th>\n      <td>North America</td>\n      <td>37.09</td>\n      <td>-95.71</td>\n      <td>11</td>\n      <td>2.77</td>\n      <td>2.57</td>\n      <td>65297.50</td>\n      <td>325719178</td>\n      <td>38</td>\n      <td>16</td>\n      <td>2020-01-22</td>\n      <td>13.00</td>\n      <td>1.00</td>\n      <td>0.00</td>\n      <td>0.00</td>\n      <td>0.00</td>\n      <td>13.00</td>\n    </tr>\n    <tr>\n      <th>Uruguay</th>\n      <td>South America</td>\n      <td>-32.52</td>\n      <td>-55.77</td>\n      <td>16</td>\n      <td>2.80</td>\n      <td>3.74</td>\n      <td>16190.10</td>\n      <td>3456750</td>\n      <td>35</td>\n      <td>15</td>\n      <td>2020-03-13</td>\n      <td>18.00</td>\n      <td>4.00</td>\n      <td>0.00</td>\n      <td>0.00</td>\n      <td>0.00</td>\n      <td>18.00</td>\n    </tr>\n    <tr>\n      <th>Zambia</th>\n      <td>Africa</td>\n      <td>-13.13</td>\n      <td>27.85</td>\n      <td>21</td>\n      <td>2.00</td>\n      <td>0.09</td>\n      <td>1305.10</td>\n      <td>17094130</td>\n      <td>17</td>\n      <td>2</td>\n      <td>2020-03-18</td>\n      <td>14.00</td>\n      <td>2.00</td>\n      <td>0.00</td>\n      <td>0.00</td>\n      <td>0.00</td>\n      <td>14.00</td>\n    </tr>\n    <tr>\n      <th>Zimbabwe</th>\n      <td>Africa</td>\n      <td>-19.02</td>\n      <td>29.15</td>\n      <td>20</td>\n      <td>1.70</td>\n      <td>0.08</td>\n      <td>1464.00</td>\n      <td>16529904</td>\n      <td>19</td>\n      <td>3</td>\n      <td>2020-03-20</td>\n      <td>12.00</td>\n      <td>1.00</td>\n      <td>0.00</td>\n      <td>0.00</td>\n      <td>0.00</td>\n      <td>12.00</td>\n    </tr>\n  </tbody>\n</table>\n<p>93 rows × 17 columns</p>\n</div>"
     },
     "execution_count": 52,
     "metadata": {},
     "output_type": "execute_result"
    }
   ],
   "source": [
    "# Group by 'Entity'\n",
    "dfg = df.groupby('Entity')\n",
    "\n",
    "# Find the columns that have constant values and the columns that have variable values.\n",
    "const_cols = set([col for entity, entity_df in dfg for col in entity_df.columns if len(entity_df[col].unique()) == 1])\n",
    "var_cols = set(df.columns.to_list()) - const_cols\n",
    "\n",
    "dfg.first()"
   ],
   "metadata": {
    "collapsed": false,
    "ExecuteTime": {
     "end_time": "2023-09-03T20:30:20.604945300Z",
     "start_time": "2023-09-03T20:30:20.491707200Z"
    }
   },
   "id": "4019d5f325a26ddf"
  },
  {
   "cell_type": "code",
   "execution_count": 57,
   "outputs": [
    {
     "data": {
      "text/plain": "                Medical doctors per 1000 people  Median age  Population  \\\nEntity                                                                    \nAlbania                                    1.29          38     2873457   \nArgentina                                  3.91          31    44271041   \nAustralia                                  3.50          37    24598933   \nAustria                                    5.23          44     8809212   \nBahrain                                    0.92          32     1492584   \n...                                         ...         ...         ...   \nUnited Kingdom                             2.82          40    66022273   \nUnited States                              2.57          38   325719178   \nUruguay                                    3.74          35     3456750   \nZambia                                     0.09          17    17094130   \nZimbabwe                                   0.08          19    16529904   \n\n                Longitude      Continent  Average temperature per year  \\\nEntity                                                                   \nAlbania             20.17         Europe                            14   \nArgentina          -63.62  South America                            14   \nAustralia          133.78        Oceania                            22   \nAustria             14.55         Europe                             8   \nBahrain             50.64           Asia                            27   \n...                   ...            ...                           ...   \nUnited Kingdom      -3.44         Europe                             8   \nUnited States      -95.71  North America                            11   \nUruguay            -55.77  South America                            16   \nZambia              27.85         Africa                            21   \nZimbabwe            29.15         Africa                            20   \n\n                Population aged 65 and over (%)  \\\nEntity                                            \nAlbania                                      14   \nArgentina                                    11   \nAustralia                                    16   \nAustria                                      19   \nBahrain                                       2   \n...                                         ...   \nUnited Kingdom                               18   \nUnited States                                16   \nUruguay                                      15   \nZambia                                        2   \nZimbabwe                                      3   \n\n                Hospital beds per 1000 people  GDP/Capita  Latitude  Days  \\\nEntity                                                                      \nAlbania                                  2.89     5353.20     41.15   370   \nArgentina                                5.00     9912.30    -38.42   404   \nAustralia                                3.84    55060.30    -25.27   400   \nAustria                                  7.37    50137.70     47.52   370   \nBahrain                                  2.00    23504.00     25.93   371   \n...                                       ...         ...       ...   ...   \nUnited Kingdom                           2.54    42330.10     55.38   395   \nUnited States                            2.77    65297.50     37.09   404   \nUruguay                                  2.80    16190.10    -32.52   353   \nZambia                                   2.00     1305.10    -13.13   348   \nZimbabwe                                 1.70     1464.00    -19.02   346   \n\n                Tests/Million  Cases/Million  Deaths/Million  \\\nEntity                                                         \nAlbania             157600.76       37295.49          625.03   \nArgentina           140783.75       47601.43         1173.79   \nAustralia           685304.32        1178.02           36.95   \nAustria            1692491.11       52154.49          971.82   \nBahrain            2290817.13       82001.41          300.82   \n...                       ...            ...             ...   \nUnited Kingdom     1286307.40       63445.66         1864.26   \nUnited States      1021857.65       87823.10         1575.26   \nUruguay             310999.35       16777.03          175.89   \nZambia               63443.77        4594.21           63.82   \nZimbabwe             22525.30        2183.26           88.51   \n\n                Positivity rate (%)  Mortality rate (%)  \nEntity                                                   \nAlbania                       23.66                1.68  \nArgentina                     33.81                2.47  \nAustralia                      0.17                3.14  \nAustria                        3.08                1.86  \nBahrain                        3.58                0.37  \n...                             ...                 ...  \nUnited Kingdom                 4.93                2.94  \nUnited States                  8.59                1.79  \nUruguay                        5.39                1.05  \nZambia                         7.24                1.39  \nZimbabwe                       9.69                4.05  \n\n[93 rows x 16 columns]",
      "text/html": "<div>\n<style scoped>\n    .dataframe tbody tr th:only-of-type {\n        vertical-align: middle;\n    }\n\n    .dataframe tbody tr th {\n        vertical-align: top;\n    }\n\n    .dataframe thead th {\n        text-align: right;\n    }\n</style>\n<table border=\"1\" class=\"dataframe\">\n  <thead>\n    <tr style=\"text-align: right;\">\n      <th></th>\n      <th>Medical doctors per 1000 people</th>\n      <th>Median age</th>\n      <th>Population</th>\n      <th>Longitude</th>\n      <th>Continent</th>\n      <th>Average temperature per year</th>\n      <th>Population aged 65 and over (%)</th>\n      <th>Hospital beds per 1000 people</th>\n      <th>GDP/Capita</th>\n      <th>Latitude</th>\n      <th>Days</th>\n      <th>Tests/Million</th>\n      <th>Cases/Million</th>\n      <th>Deaths/Million</th>\n      <th>Positivity rate (%)</th>\n      <th>Mortality rate (%)</th>\n    </tr>\n    <tr>\n      <th>Entity</th>\n      <th></th>\n      <th></th>\n      <th></th>\n      <th></th>\n      <th></th>\n      <th></th>\n      <th></th>\n      <th></th>\n      <th></th>\n      <th></th>\n      <th></th>\n      <th></th>\n      <th></th>\n      <th></th>\n      <th></th>\n      <th></th>\n    </tr>\n  </thead>\n  <tbody>\n    <tr>\n      <th>Albania</th>\n      <td>1.29</td>\n      <td>38</td>\n      <td>2873457</td>\n      <td>20.17</td>\n      <td>Europe</td>\n      <td>14</td>\n      <td>14</td>\n      <td>2.89</td>\n      <td>5353.20</td>\n      <td>41.15</td>\n      <td>370</td>\n      <td>157600.76</td>\n      <td>37295.49</td>\n      <td>625.03</td>\n      <td>23.66</td>\n      <td>1.68</td>\n    </tr>\n    <tr>\n      <th>Argentina</th>\n      <td>3.91</td>\n      <td>31</td>\n      <td>44271041</td>\n      <td>-63.62</td>\n      <td>South America</td>\n      <td>14</td>\n      <td>11</td>\n      <td>5.00</td>\n      <td>9912.30</td>\n      <td>-38.42</td>\n      <td>404</td>\n      <td>140783.75</td>\n      <td>47601.43</td>\n      <td>1173.79</td>\n      <td>33.81</td>\n      <td>2.47</td>\n    </tr>\n    <tr>\n      <th>Australia</th>\n      <td>3.50</td>\n      <td>37</td>\n      <td>24598933</td>\n      <td>133.78</td>\n      <td>Oceania</td>\n      <td>22</td>\n      <td>16</td>\n      <td>3.84</td>\n      <td>55060.30</td>\n      <td>-25.27</td>\n      <td>400</td>\n      <td>685304.32</td>\n      <td>1178.02</td>\n      <td>36.95</td>\n      <td>0.17</td>\n      <td>3.14</td>\n    </tr>\n    <tr>\n      <th>Austria</th>\n      <td>5.23</td>\n      <td>44</td>\n      <td>8809212</td>\n      <td>14.55</td>\n      <td>Europe</td>\n      <td>8</td>\n      <td>19</td>\n      <td>7.37</td>\n      <td>50137.70</td>\n      <td>47.52</td>\n      <td>370</td>\n      <td>1692491.11</td>\n      <td>52154.49</td>\n      <td>971.82</td>\n      <td>3.08</td>\n      <td>1.86</td>\n    </tr>\n    <tr>\n      <th>Bahrain</th>\n      <td>0.92</td>\n      <td>32</td>\n      <td>1492584</td>\n      <td>50.64</td>\n      <td>Asia</td>\n      <td>27</td>\n      <td>2</td>\n      <td>2.00</td>\n      <td>23504.00</td>\n      <td>25.93</td>\n      <td>371</td>\n      <td>2290817.13</td>\n      <td>82001.41</td>\n      <td>300.82</td>\n      <td>3.58</td>\n      <td>0.37</td>\n    </tr>\n    <tr>\n      <th>...</th>\n      <td>...</td>\n      <td>...</td>\n      <td>...</td>\n      <td>...</td>\n      <td>...</td>\n      <td>...</td>\n      <td>...</td>\n      <td>...</td>\n      <td>...</td>\n      <td>...</td>\n      <td>...</td>\n      <td>...</td>\n      <td>...</td>\n      <td>...</td>\n      <td>...</td>\n      <td>...</td>\n    </tr>\n    <tr>\n      <th>United Kingdom</th>\n      <td>2.82</td>\n      <td>40</td>\n      <td>66022273</td>\n      <td>-3.44</td>\n      <td>Europe</td>\n      <td>8</td>\n      <td>18</td>\n      <td>2.54</td>\n      <td>42330.10</td>\n      <td>55.38</td>\n      <td>395</td>\n      <td>1286307.40</td>\n      <td>63445.66</td>\n      <td>1864.26</td>\n      <td>4.93</td>\n      <td>2.94</td>\n    </tr>\n    <tr>\n      <th>United States</th>\n      <td>2.57</td>\n      <td>38</td>\n      <td>325719178</td>\n      <td>-95.71</td>\n      <td>North America</td>\n      <td>11</td>\n      <td>16</td>\n      <td>2.77</td>\n      <td>65297.50</td>\n      <td>37.09</td>\n      <td>404</td>\n      <td>1021857.65</td>\n      <td>87823.10</td>\n      <td>1575.26</td>\n      <td>8.59</td>\n      <td>1.79</td>\n    </tr>\n    <tr>\n      <th>Uruguay</th>\n      <td>3.74</td>\n      <td>35</td>\n      <td>3456750</td>\n      <td>-55.77</td>\n      <td>South America</td>\n      <td>16</td>\n      <td>15</td>\n      <td>2.80</td>\n      <td>16190.10</td>\n      <td>-32.52</td>\n      <td>353</td>\n      <td>310999.35</td>\n      <td>16777.03</td>\n      <td>175.89</td>\n      <td>5.39</td>\n      <td>1.05</td>\n    </tr>\n    <tr>\n      <th>Zambia</th>\n      <td>0.09</td>\n      <td>17</td>\n      <td>17094130</td>\n      <td>27.85</td>\n      <td>Africa</td>\n      <td>21</td>\n      <td>2</td>\n      <td>2.00</td>\n      <td>1305.10</td>\n      <td>-13.13</td>\n      <td>348</td>\n      <td>63443.77</td>\n      <td>4594.21</td>\n      <td>63.82</td>\n      <td>7.24</td>\n      <td>1.39</td>\n    </tr>\n    <tr>\n      <th>Zimbabwe</th>\n      <td>0.08</td>\n      <td>19</td>\n      <td>16529904</td>\n      <td>29.15</td>\n      <td>Africa</td>\n      <td>20</td>\n      <td>3</td>\n      <td>1.70</td>\n      <td>1464.00</td>\n      <td>-19.02</td>\n      <td>346</td>\n      <td>22525.30</td>\n      <td>2183.26</td>\n      <td>88.51</td>\n      <td>9.69</td>\n      <td>4.05</td>\n    </tr>\n  </tbody>\n</table>\n<p>93 rows × 16 columns</p>\n</div>"
     },
     "execution_count": 57,
     "metadata": {},
     "output_type": "execute_result"
    }
   ],
   "source": [
    "sum_df = dfg[list(const_cols - {'Entity'})].first()\n",
    "sum_df['Days'] = dfg['Date'].count()\n",
    "sum_df[['Tests/Million', 'Cases/Million', 'Deaths/Million']] = (\n",
    "        dfg[['Tests', 'Cases', 'Deaths']].last().div(sum_df['Population'], axis=0) * 1e6)\n",
    "\n",
    "sum_df['Positivity rate (%)'] = sum_df['Cases/Million'].div(sum_df['Tests/Million'], axis=0) * 100\n",
    "sum_df['Mortality rate (%)'] = sum_df['Deaths/Million'].div(sum_df['Cases/Million'], axis=0) * 100\n",
    "\n",
    "sum_df = sum_df.round(2)\n",
    "\n",
    "sum_df"
   ],
   "metadata": {
    "collapsed": false,
    "ExecuteTime": {
     "end_time": "2023-09-03T20:34:48.761360700Z",
     "start_time": "2023-09-03T20:34:48.731175600Z"
    }
   },
   "id": "76124dc88788953a"
  },
  {
   "cell_type": "code",
   "execution_count": 58,
   "outputs": [
    {
     "name": "stdout",
     "output_type": "stream",
     "text": [
      "<class 'pandas.core.frame.DataFrame'>\n",
      "Index: 93 entries, Albania to Zimbabwe\n",
      "Data columns (total 16 columns):\n",
      " #   Column                           Non-Null Count  Dtype  \n",
      "---  ------                           --------------  -----  \n",
      " 0   Medical doctors per 1000 people  93 non-null     float64\n",
      " 1   Median age                       93 non-null     int64  \n",
      " 2   Population                       93 non-null     int64  \n",
      " 3   Longitude                        93 non-null     float64\n",
      " 4   Continent                        93 non-null     object \n",
      " 5   Average temperature per year     93 non-null     int64  \n",
      " 6   Population aged 65 and over (%)  93 non-null     int64  \n",
      " 7   Hospital beds per 1000 people    93 non-null     float64\n",
      " 8   GDP/Capita                       93 non-null     float64\n",
      " 9   Latitude                         93 non-null     float64\n",
      " 10  Days                             93 non-null     int64  \n",
      " 11  Tests/Million                    93 non-null     float64\n",
      " 12  Cases/Million                    93 non-null     float64\n",
      " 13  Deaths/Million                   93 non-null     float64\n",
      " 14  Positivity rate (%)              93 non-null     float64\n",
      " 15  Mortality rate (%)               93 non-null     float64\n",
      "dtypes: float64(10), int64(5), object(1)\n",
      "memory usage: 14.4+ KB\n"
     ]
    }
   ],
   "source": [
    "sum_df.info()"
   ],
   "metadata": {
    "collapsed": false,
    "ExecuteTime": {
     "end_time": "2023-09-03T20:34:55.646370800Z",
     "start_time": "2023-09-03T20:34:55.631823Z"
    }
   },
   "id": "68f36bd85f803c82"
  },
  {
   "cell_type": "code",
   "execution_count": 59,
   "outputs": [
    {
     "data": {
      "text/plain": "                                 count        mean          std       min  \\\nMedical doctors per 1000 people  93.00        2.06         1.55      0.02   \nMedian age                       93.00       32.88         8.68     16.00   \nPopulation                       93.00 50456953.15 146598671.09 341284.00   \nLongitude                        93.00       17.31        62.72   -106.35   \nAverage temperature per year     93.00       17.81         7.98     -2.00   \nPopulation aged 65 and over (%)  93.00       10.89         6.84      1.00   \nHospital beds per 1000 people    93.00        3.13         2.48      0.30   \nGDP/Capita                       93.00    19712.37     22727.01    411.60   \nLatitude                         93.00       22.60        26.71    -40.90   \nDays                             93.00      370.14        19.12    334.00   \nTests/Million                    93.00   501284.82    709512.51   7691.77   \nCases/Million                    93.00    28581.49     26090.03     65.16   \nDeaths/Million                   93.00      553.86       562.98      1.20   \nPositivity rate (%)              93.00       10.45         9.17      0.14   \nMortality rate (%)               93.00        1.98         1.30      0.12   \n\n                                       25%         50%         75%  \\\nMedical doctors per 1000 people       0.79        1.82        3.13   \nMedian age                           27.00       32.00       41.00   \nPopulation                      4813608.00 12208407.00 44271041.00   \nLongitude                            -8.22       20.17       45.08   \nAverage temperature per year         11.00       20.00       25.00   \nPopulation aged 65 and over (%)       5.00        9.00       17.00   \nHospital beds per 1000 people         1.38        2.50        4.49   \nGDP/Capita                         3853.10     9828.10    27858.40   \nLatitude                              7.95       25.93       45.10   \nDays                                357.00      366.00      375.00   \nTests/Million                     73481.29   215954.17   671488.71   \nCases/Million                      4594.21    20917.02    45673.64   \nDeaths/Million                       65.46      300.82     1038.98   \nPositivity rate (%)                   3.75        8.14       13.88   \nMortality rate (%)                    1.09        1.79        2.53   \n\n                                          max  \nMedical doctors per 1000 people          7.52  \nMedian age                              48.00  \nPopulation                      1339180127.00  \nLongitude                              179.41  \nAverage temperature per year            29.00  \nPopulation aged 65 and over (%)         28.00  \nHospital beds per 1000 people           13.05  \nGDP/Capita                          114704.60  \nLatitude                                64.96  \nDays                                   425.00  \nTests/Million                      3516786.25  \nCases/Million                        91971.06  \nDeaths/Million                        1941.34  \nPositivity rate (%)                     44.61  \nMortality rate (%)                       8.90  ",
      "text/html": "<div>\n<style scoped>\n    .dataframe tbody tr th:only-of-type {\n        vertical-align: middle;\n    }\n\n    .dataframe tbody tr th {\n        vertical-align: top;\n    }\n\n    .dataframe thead th {\n        text-align: right;\n    }\n</style>\n<table border=\"1\" class=\"dataframe\">\n  <thead>\n    <tr style=\"text-align: right;\">\n      <th></th>\n      <th>count</th>\n      <th>mean</th>\n      <th>std</th>\n      <th>min</th>\n      <th>25%</th>\n      <th>50%</th>\n      <th>75%</th>\n      <th>max</th>\n    </tr>\n  </thead>\n  <tbody>\n    <tr>\n      <th>Medical doctors per 1000 people</th>\n      <td>93.00</td>\n      <td>2.06</td>\n      <td>1.55</td>\n      <td>0.02</td>\n      <td>0.79</td>\n      <td>1.82</td>\n      <td>3.13</td>\n      <td>7.52</td>\n    </tr>\n    <tr>\n      <th>Median age</th>\n      <td>93.00</td>\n      <td>32.88</td>\n      <td>8.68</td>\n      <td>16.00</td>\n      <td>27.00</td>\n      <td>32.00</td>\n      <td>41.00</td>\n      <td>48.00</td>\n    </tr>\n    <tr>\n      <th>Population</th>\n      <td>93.00</td>\n      <td>50456953.15</td>\n      <td>146598671.09</td>\n      <td>341284.00</td>\n      <td>4813608.00</td>\n      <td>12208407.00</td>\n      <td>44271041.00</td>\n      <td>1339180127.00</td>\n    </tr>\n    <tr>\n      <th>Longitude</th>\n      <td>93.00</td>\n      <td>17.31</td>\n      <td>62.72</td>\n      <td>-106.35</td>\n      <td>-8.22</td>\n      <td>20.17</td>\n      <td>45.08</td>\n      <td>179.41</td>\n    </tr>\n    <tr>\n      <th>Average temperature per year</th>\n      <td>93.00</td>\n      <td>17.81</td>\n      <td>7.98</td>\n      <td>-2.00</td>\n      <td>11.00</td>\n      <td>20.00</td>\n      <td>25.00</td>\n      <td>29.00</td>\n    </tr>\n    <tr>\n      <th>Population aged 65 and over (%)</th>\n      <td>93.00</td>\n      <td>10.89</td>\n      <td>6.84</td>\n      <td>1.00</td>\n      <td>5.00</td>\n      <td>9.00</td>\n      <td>17.00</td>\n      <td>28.00</td>\n    </tr>\n    <tr>\n      <th>Hospital beds per 1000 people</th>\n      <td>93.00</td>\n      <td>3.13</td>\n      <td>2.48</td>\n      <td>0.30</td>\n      <td>1.38</td>\n      <td>2.50</td>\n      <td>4.49</td>\n      <td>13.05</td>\n    </tr>\n    <tr>\n      <th>GDP/Capita</th>\n      <td>93.00</td>\n      <td>19712.37</td>\n      <td>22727.01</td>\n      <td>411.60</td>\n      <td>3853.10</td>\n      <td>9828.10</td>\n      <td>27858.40</td>\n      <td>114704.60</td>\n    </tr>\n    <tr>\n      <th>Latitude</th>\n      <td>93.00</td>\n      <td>22.60</td>\n      <td>26.71</td>\n      <td>-40.90</td>\n      <td>7.95</td>\n      <td>25.93</td>\n      <td>45.10</td>\n      <td>64.96</td>\n    </tr>\n    <tr>\n      <th>Days</th>\n      <td>93.00</td>\n      <td>370.14</td>\n      <td>19.12</td>\n      <td>334.00</td>\n      <td>357.00</td>\n      <td>366.00</td>\n      <td>375.00</td>\n      <td>425.00</td>\n    </tr>\n    <tr>\n      <th>Tests/Million</th>\n      <td>93.00</td>\n      <td>501284.82</td>\n      <td>709512.51</td>\n      <td>7691.77</td>\n      <td>73481.29</td>\n      <td>215954.17</td>\n      <td>671488.71</td>\n      <td>3516786.25</td>\n    </tr>\n    <tr>\n      <th>Cases/Million</th>\n      <td>93.00</td>\n      <td>28581.49</td>\n      <td>26090.03</td>\n      <td>65.16</td>\n      <td>4594.21</td>\n      <td>20917.02</td>\n      <td>45673.64</td>\n      <td>91971.06</td>\n    </tr>\n    <tr>\n      <th>Deaths/Million</th>\n      <td>93.00</td>\n      <td>553.86</td>\n      <td>562.98</td>\n      <td>1.20</td>\n      <td>65.46</td>\n      <td>300.82</td>\n      <td>1038.98</td>\n      <td>1941.34</td>\n    </tr>\n    <tr>\n      <th>Positivity rate (%)</th>\n      <td>93.00</td>\n      <td>10.45</td>\n      <td>9.17</td>\n      <td>0.14</td>\n      <td>3.75</td>\n      <td>8.14</td>\n      <td>13.88</td>\n      <td>44.61</td>\n    </tr>\n    <tr>\n      <th>Mortality rate (%)</th>\n      <td>93.00</td>\n      <td>1.98</td>\n      <td>1.30</td>\n      <td>0.12</td>\n      <td>1.09</td>\n      <td>1.79</td>\n      <td>2.53</td>\n      <td>8.90</td>\n    </tr>\n  </tbody>\n</table>\n</div>"
     },
     "execution_count": 59,
     "metadata": {},
     "output_type": "execute_result"
    }
   ],
   "source": [
    "sum_df.describe().round(2).T"
   ],
   "metadata": {
    "collapsed": false,
    "ExecuteTime": {
     "end_time": "2023-09-03T20:34:57.801399400Z",
     "start_time": "2023-09-03T20:34:57.776683900Z"
    }
   },
   "id": "95782535365c9398"
  },
  {
   "cell_type": "markdown",
   "source": [
    "## Save the summary data\n",
    "\n",
    "We will save the summary data to a csv file to use it later."
   ],
   "metadata": {
    "collapsed": false
   },
   "id": "d17681cfd59b18e0"
  },
  {
   "cell_type": "code",
   "execution_count": 60,
   "outputs": [],
   "source": [
    "sum_df.to_csv('../data/sum_data.csv')"
   ],
   "metadata": {
    "collapsed": false,
    "ExecuteTime": {
     "end_time": "2023-09-03T20:35:12.258077900Z",
     "start_time": "2023-09-03T20:35:12.245948200Z"
    }
   },
   "id": "889ec6b0d571e9bb"
  }
 ],
 "metadata": {
  "kernelspec": {
   "display_name": "Python 3",
   "language": "python",
   "name": "python3"
  },
  "language_info": {
   "codemirror_mode": {
    "name": "ipython",
    "version": 2
   },
   "file_extension": ".py",
   "mimetype": "text/x-python",
   "name": "python",
   "nbconvert_exporter": "python",
   "pygments_lexer": "ipython2",
   "version": "2.7.6"
  }
 },
 "nbformat": 4,
 "nbformat_minor": 5
}
