{
 "cells": [
  {
   "cell_type": "markdown",
   "metadata": {},
   "source": [
    "# Data Mining Project"
   ]
  },
  {
   "cell_type": "markdown",
   "metadata": {},
   "source": [
    "# Question 1 - Data Exploration & Preprocessing"
   ]
  },
  {
   "cell_type": "code",
   "execution_count": 246,
   "metadata": {
    "ExecuteTime": {
     "end_time": "2023-09-01T20:43:38.192394100Z",
     "start_time": "2023-09-01T20:43:38.097972600Z"
    }
   },
   "outputs": [],
   "source": [
    "import pandas as pd\n",
    "import numpy as np\n",
    "import matplotlib.pyplot as plt\n",
    "import matplotlib.ticker as tkr\n",
    "import seaborn as sns"
   ]
  },
  {
   "cell_type": "markdown",
   "source": [
    "## Add columns \n",
    "\n",
    "We will add some additional columns that we will need later.\n",
    "\n",
    "The additional columns are:\n",
    "1. 'Tests' - The total number of tests.\n",
    "2. 'Daily cases' - The number of new cases per day.\n",
    "3. 'Daily deaths' - The number of new deaths per day.\n",
    "4. 'Daily positivity rate (%)' - The positivity rate of the tests per day.\n",
    "5. 'Daily mortality rate (%)' - The mortality rate of the cases per day.\n",
    "6. 'Positivity rate (%)' - The positivity rate of the tests.\n",
    "7. 'Mortality rate (%)' - The mortality rate of the cases."
   ],
   "metadata": {
    "collapsed": false
   }
  },
  {
   "cell_type": "code",
   "execution_count": null,
   "outputs": [],
   "source": [
    "df['Date'] = pd.to_datetime(df['Date'])\n",
    "df['Tests'] = df.groupby('Entity')['Daily tests'].cumsum()\n",
    "df['Daily cases'] = df.groupby('Entity')['Cases'].diff().fillna(0)\n",
    "df['Daily deaths'] = df.groupby('Entity')['Deaths'].diff().fillna(0)\n",
    "df['Daily positivity rate (%)'] = (df['Daily cases'] / df['Daily tests'] * 100).round(2)\n",
    "df['Daily mortality rate (%)'] = (df['Daily deaths'] / df['Daily cases'] * 100).round(2)\n",
    "df['Positivity rate (%)'] = (df['Cases'] / df['Tests'] * 100).round(2)\n",
    "df['Mortality rate (%)'] = (df['Deaths'] / df['Cases'] * 100).round(2)"
   ],
   "metadata": {
    "collapsed": false,
    "ExecuteTime": {
     "start_time": "2023-09-01T20:40:46.848781600Z"
    }
   }
  },
  {
   "cell_type": "code",
   "execution_count": null,
   "metadata": {
    "ExecuteTime": {
     "start_time": "2023-09-01T20:40:46.850775900Z"
    }
   },
   "outputs": [],
   "source": [
    "df"
   ]
  },
  {
   "cell_type": "code",
   "execution_count": null,
   "metadata": {
    "ExecuteTime": {
     "start_time": "2023-09-01T20:40:46.853351Z"
    }
   },
   "outputs": [],
   "source": [
    "df.info()"
   ]
  },
  {
   "cell_type": "markdown",
   "metadata": {},
   "source": [
    "### Group the data by country\n",
    "\n",
    "We will group the data by country, and then we will find the columns that remain constant and the columns that vary per country.\n"
   ]
  },
  {
   "cell_type": "code",
   "execution_count": null,
   "metadata": {
    "ExecuteTime": {
     "start_time": "2023-09-01T20:40:46.855157600Z"
    }
   },
   "outputs": [],
   "source": [
    "# Group by 'Entity'\n",
    "dfg = df.groupby('Entity')\n",
    "\n",
    "# Find the columns that have constant values and the columns that have variable values.\n",
    "const_cols = set([col for entity, entity_df in dfg for col in entity_df.columns if len(entity_df[col].unique()) == 1])\n",
    "var_cols = set(df.columns.to_list()) - const_cols"
   ]
  },
  {
   "cell_type": "code",
   "execution_count": null,
   "metadata": {
    "ExecuteTime": {
     "start_time": "2023-09-01T20:40:46.857207Z"
    }
   },
   "outputs": [],
   "source": [
    "print('Constant columns: ', const_cols)"
   ]
  },
  {
   "cell_type": "code",
   "execution_count": null,
   "metadata": {
    "ExecuteTime": {
     "start_time": "2023-09-01T20:40:46.859212200Z"
    }
   },
   "outputs": [],
   "source": [
    "print('Variable columns: ', var_cols)"
   ]
  },
  {
   "cell_type": "markdown",
   "metadata": {},
   "source": [
    "### Data summary per country\n",
    "\n",
    "We will create a dataframe that contains the summary of the data per country. The summary will contain all the columns that have constant values and some additional columns that we will calculate.\n",
    "\n",
    "The additional columns are:\n",
    "1. 'Days' - The number of days that the country has data for.\n",
    "2. 'Tests/Million' - The number of tests per million people.\n",
    "3. 'Cases/Million' - The number of cases per million people.\n",
    "4. 'Deaths/Million' - The number of deaths per million people.\n",
    "5. 'Positivity rate (%)' - The positivity rate of the tests.\n",
    "6. 'Mortality rate (%)' - The mortality rate of the cases."
   ]
  },
  {
   "cell_type": "code",
   "execution_count": null,
   "metadata": {
    "ExecuteTime": {
     "start_time": "2023-09-01T20:40:46.861212200Z"
    }
   },
   "outputs": [],
   "source": [
    "sum_df = dfg[list(const_cols - {'Entity'})].first()\n",
    "sum_df['Days'] = dfg['Date'].count()\n",
    "sum_df[['Tests/Million', 'Cases/Million', 'Deaths/Million']] = dfg[['Tests', 'Cases', 'Deaths']].last().div(\n",
    "    sum_df['Population'], axis=0) * 1e6\n",
    "sum_df[['Positivity rate (%)', 'Mortality rate (%)']] = dfg[['Positivity rate (%)', 'Mortality rate (%)']].last()\n",
    "\n",
    "sum_df = sum_df.round(2)\n",
    "\n",
    "sum_df.to_csv('data/data_summary.csv')"
   ]
  },
  {
   "cell_type": "code",
   "execution_count": null,
   "metadata": {
    "ExecuteTime": {
     "start_time": "2023-09-01T20:40:46.862213800Z"
    }
   },
   "outputs": [],
   "source": [
    "sum_df"
   ]
  },
  {
   "cell_type": "code",
   "execution_count": null,
   "metadata": {
    "ExecuteTime": {
     "start_time": "2023-09-01T20:40:46.875554600Z"
    }
   },
   "outputs": [],
   "source": [
    "sum_df.info()"
   ]
  },
  {
   "cell_type": "code",
   "execution_count": null,
   "metadata": {
    "ExecuteTime": {
     "start_time": "2023-09-01T20:40:46.879290900Z"
    }
   },
   "outputs": [],
   "source": [
    "sum_df.describe().round(2).T"
   ]
  },
  {
   "cell_type": "markdown",
   "metadata": {},
   "source": [
    "### Plot the data\n",
    "Now we will plot the data to see if there are any correlations between the columns."
   ]
  },
  {
   "cell_type": "code",
   "execution_count": null,
   "metadata": {
    "ExecuteTime": {
     "start_time": "2023-09-01T20:40:46.882300800Z"
    }
   },
   "outputs": [],
   "source": [
    "formatter = tkr.FuncFormatter(lambda x, pos: '{:,.1f}B'.format(x / 1e9) if abs(x) >= 1e9\n",
    "else '{:,.0f}M'.format(x / 1e6) if abs(x) >= 1e6\n",
    "else '{:,.0f}K'.format(x / 1e3) if abs(x) >= 1e3\n",
    "else '{:,.0f}'.format(x))"
   ]
  },
  {
   "cell_type": "code",
   "execution_count": null,
   "metadata": {
    "ExecuteTime": {
     "start_time": "2023-09-01T20:40:46.883300500Z"
    }
   },
   "outputs": [],
   "source": [
    "plots = {}\n",
    "for val in ('Tests/Million', 'Cases/Million', 'Deaths/Million'):\n",
    "\n",
    "    plots[val] = sns.pairplot(\n",
    "        data=sum_df,\n",
    "        y_vars=val,\n",
    "        x_vars=('Tests/Million', 'Cases/Million', 'Deaths/Million'),\n",
    "        diag_kind='kde',\n",
    "        kind='reg',\n",
    "        plot_kws={'line_kws': {'color': 'red'}},\n",
    "        height=5\n",
    "    )\n",
    "\n",
    "    for axis in plots[val].axes.flat:\n",
    "        axis.tick_params(axis='x', rotation=30)\n",
    "        axis.xaxis.set_major_formatter(formatter)\n",
    "        axis.yaxis.set_major_formatter(formatter)\n",
    "        axis.grid(color='grey', linestyle='-', linewidth=0.5)\n",
    "\n",
    "    plt.suptitle(val + ' by Country', fontsize=15)\n",
    "    plt.subplots_adjust(top=0.9)\n",
    "    plt.tight_layout()"
   ]
  },
  {
   "cell_type": "code",
   "execution_count": null,
   "metadata": {
    "ExecuteTime": {
     "start_time": "2023-09-01T20:40:46.885607500Z"
    }
   },
   "outputs": [],
   "source": [
    "plots = {}\n",
    "for val in ('Mortality rate (%)', 'Positivity rate (%)'):\n",
    "    \n",
    "    plots[val] = sns.pairplot(\n",
    "        data=sum_df,\n",
    "        y_vars=val,\n",
    "        x_vars=('Tests/Million', 'Cases/Million', 'Deaths/Million'),\n",
    "        diag_kind='kde',\n",
    "        kind='reg',\n",
    "        plot_kws={'line_kws': {'color': 'red'}},\n",
    "        height=5\n",
    "    )\n",
    "\n",
    "    for axis in plots[val].axes.flat:\n",
    "        axis.tick_params(axis='x', rotation=30)\n",
    "        axis.xaxis.set_major_formatter(formatter)\n",
    "        axis.yaxis.set_major_formatter(formatter)\n",
    "        axis.grid(color='grey', linestyle='-', linewidth=0.5)\n",
    "\n",
    "    plt.suptitle(val + ' by Country', fontsize=15)\n",
    "    plt.subplots_adjust(top=0.9)\n",
    "    plt.tight_layout()"
   ]
  },
  {
   "cell_type": "code",
   "execution_count": null,
   "metadata": {
    "ExecuteTime": {
     "start_time": "2023-09-01T20:40:46.886620700Z"
    }
   },
   "outputs": [],
   "source": [
    "plot = sns.pairplot(\n",
    "    data=sum_df,\n",
    "    # Add the mortality rate to the plot\n",
    "    y_vars=const_cols - {'Continent', 'Entity'},\n",
    "    x_vars=['Tests/Million', 'Cases/Million', 'Deaths/Million', 'Positivity rate (%)', 'Mortality rate (%)'],\n",
    "    kind='reg',\n",
    "    plot_kws={'line_kws': {'color': 'red'}},\n",
    "    height=4)\n",
    "\n",
    "for axis in plot.axes.flat:\n",
    "    axis.tick_params(axis='x', rotation=30)\n",
    "    axis.xaxis.set_major_formatter(formatter)\n",
    "    axis.yaxis.set_major_formatter(formatter)\n",
    "    axis.grid(color='grey', linestyle='-', linewidth=0.5)"
   ]
  },
  {
   "cell_type": "markdown",
   "metadata": {},
   "source": []
  },
  {
   "cell_type": "code",
   "execution_count": 231,
   "metadata": {
    "ExecuteTime": {
     "end_time": "2023-09-01T20:40:47.559725600Z",
     "start_time": "2023-09-01T20:40:46.896530200Z"
    }
   },
   "outputs": [
    {
     "data": {
      "text/plain": "<Figure size 1800x600 with 3 Axes>",
      "image/png": "[encoded data removed]"
     },
     "metadata": {},
     "output_type": "display_data"
    }
   ],
   "source": [
    "# Create a figure with 3 subplots.\n",
    "fig, axes = plt.subplots(1, 3, figsize=(18, 6))\n",
    "\n",
    "# Loop through the variables and create box plots.\n",
    "for i, column in enumerate(('Tests/Million', 'Cases/Million', 'Deaths/Million')):\n",
    "    sns.boxplot(ax=axes[i], x='Continent', y=column, data=sum_df)\n",
    "    axes[i].set_title(column + ' by Continent')\n",
    "    axes[i].set_xlabel('Continent')\n",
    "    axes[i].set_ylabel(column)\n",
    "    axes[i].tick_params(axis='x', rotation=30)\n",
    "    axes[i].grid(axis='y', color='grey', linestyle='-', linewidth=0.5)\n",
    "    axes[i].yaxis.set_major_formatter(formatter)\n",
    "\n",
    "# Adjust spacing between subplots.\n",
    "plt.tight_layout()\n",
    "\n",
    "# Show the plots.\n",
    "plt.show()"
   ]
  },
  {
   "cell_type": "code",
   "execution_count": 232,
   "metadata": {
    "ExecuteTime": {
     "end_time": "2023-09-01T20:40:48.116903Z",
     "start_time": "2023-09-01T20:40:47.563664800Z"
    }
   },
   "outputs": [
    {
     "data": {
      "text/plain": "<Figure size 1200x600 with 2 Axes>",
      "image/png": "[encoded data removed]"
     },
     "metadata": {},
     "output_type": "display_data"
    }
   ],
   "source": [
    "# Create a figure with 3 subplots.\n",
    "fig, axes = plt.subplots(1, 2, figsize=(12, 6))\n",
    "\n",
    "# Loop through the variables and create box plots.\n",
    "for i, column in enumerate(('Positivity rate (%)', 'Mortality rate (%)')):\n",
    "    sns.boxplot(ax=axes[i], x='Continent', y=column, data=sum_df)\n",
    "    axes[i].set_title(column + ' by Continent')\n",
    "    axes[i].set_xlabel('Continent')\n",
    "    axes[i].set_ylabel(column)\n",
    "    axes[i].tick_params(axis='x', rotation=30)\n",
    "    axes[i].grid(axis='y', color='grey', linestyle='-', linewidth=0.5)\n",
    "    axes[i].yaxis.set_major_formatter(formatter)\n",
    "\n",
    "# Adjust spacing between subplots.\n",
    "plt.tight_layout()\n",
    "\n",
    "# Show the plots.\n",
    "plt.show()"
   ]
  },
  {
   "cell_type": "code",
   "execution_count": 233,
   "metadata": {
    "ExecuteTime": {
     "end_time": "2023-09-01T20:40:48.118076900Z",
     "start_time": "2023-09-01T20:40:48.115452400Z"
    }
   },
   "outputs": [
    {
     "ename": "ValueError",
     "evalue": "could not convert string to float: 'Europe'",
     "output_type": "error",
     "traceback": [
      "\u001B[1;31m---------------------------------------------------------------------------\u001B[0m",
      "\u001B[1;31mValueError\u001B[0m                                Traceback (most recent call last)",
      "Cell \u001B[1;32mIn[233], line 2\u001B[0m\n\u001B[0;32m      1\u001B[0m \u001B[38;5;66;03m# Compute the correlation matrix\u001B[39;00m\n\u001B[1;32m----> 2\u001B[0m corr_matrix \u001B[38;5;241m=\u001B[39m sum_df\u001B[38;5;241m.\u001B[39mcorr()\n\u001B[0;32m      4\u001B[0m \u001B[38;5;66;03m# Create a custom color map\u001B[39;00m\n\u001B[0;32m      5\u001B[0m cmap \u001B[38;5;241m=\u001B[39m sns\u001B[38;5;241m.\u001B[39mcolor_palette(\u001B[38;5;124m'\u001B[39m\u001B[38;5;124mhot\u001B[39m\u001B[38;5;124m'\u001B[39m, as_cmap\u001B[38;5;241m=\u001B[39m\u001B[38;5;28;01mTrue\u001B[39;00m)\n",
      "File \u001B[1;32m~\\AppData\\Local\\Anaconda\\envs\\data-mining-project\\Lib\\site-packages\\pandas\\core\\frame.py:10054\u001B[0m, in \u001B[0;36mDataFrame.corr\u001B[1;34m(self, method, min_periods, numeric_only)\u001B[0m\n\u001B[0;32m  10052\u001B[0m cols \u001B[38;5;241m=\u001B[39m data\u001B[38;5;241m.\u001B[39mcolumns\n\u001B[0;32m  10053\u001B[0m idx \u001B[38;5;241m=\u001B[39m cols\u001B[38;5;241m.\u001B[39mcopy()\n\u001B[1;32m> 10054\u001B[0m mat \u001B[38;5;241m=\u001B[39m data\u001B[38;5;241m.\u001B[39mto_numpy(dtype\u001B[38;5;241m=\u001B[39m\u001B[38;5;28mfloat\u001B[39m, na_value\u001B[38;5;241m=\u001B[39mnp\u001B[38;5;241m.\u001B[39mnan, copy\u001B[38;5;241m=\u001B[39m\u001B[38;5;28;01mFalse\u001B[39;00m)\n\u001B[0;32m  10056\u001B[0m \u001B[38;5;28;01mif\u001B[39;00m method \u001B[38;5;241m==\u001B[39m \u001B[38;5;124m\"\u001B[39m\u001B[38;5;124mpearson\u001B[39m\u001B[38;5;124m\"\u001B[39m:\n\u001B[0;32m  10057\u001B[0m     correl \u001B[38;5;241m=\u001B[39m libalgos\u001B[38;5;241m.\u001B[39mnancorr(mat, minp\u001B[38;5;241m=\u001B[39mmin_periods)\n",
      "File \u001B[1;32m~\\AppData\\Local\\Anaconda\\envs\\data-mining-project\\Lib\\site-packages\\pandas\\core\\frame.py:1838\u001B[0m, in \u001B[0;36mDataFrame.to_numpy\u001B[1;34m(self, dtype, copy, na_value)\u001B[0m\n\u001B[0;32m   1836\u001B[0m \u001B[38;5;28;01mif\u001B[39;00m dtype \u001B[38;5;129;01mis\u001B[39;00m \u001B[38;5;129;01mnot\u001B[39;00m \u001B[38;5;28;01mNone\u001B[39;00m:\n\u001B[0;32m   1837\u001B[0m     dtype \u001B[38;5;241m=\u001B[39m np\u001B[38;5;241m.\u001B[39mdtype(dtype)\n\u001B[1;32m-> 1838\u001B[0m result \u001B[38;5;241m=\u001B[39m \u001B[38;5;28mself\u001B[39m\u001B[38;5;241m.\u001B[39m_mgr\u001B[38;5;241m.\u001B[39mas_array(dtype\u001B[38;5;241m=\u001B[39mdtype, copy\u001B[38;5;241m=\u001B[39mcopy, na_value\u001B[38;5;241m=\u001B[39mna_value)\n\u001B[0;32m   1839\u001B[0m \u001B[38;5;28;01mif\u001B[39;00m result\u001B[38;5;241m.\u001B[39mdtype \u001B[38;5;129;01mis\u001B[39;00m \u001B[38;5;129;01mnot\u001B[39;00m dtype:\n\u001B[0;32m   1840\u001B[0m     result \u001B[38;5;241m=\u001B[39m np\u001B[38;5;241m.\u001B[39marray(result, dtype\u001B[38;5;241m=\u001B[39mdtype, copy\u001B[38;5;241m=\u001B[39m\u001B[38;5;28;01mFalse\u001B[39;00m)\n",
      "File \u001B[1;32m~\\AppData\\Local\\Anaconda\\envs\\data-mining-project\\Lib\\site-packages\\pandas\\core\\internals\\managers.py:1732\u001B[0m, in \u001B[0;36mBlockManager.as_array\u001B[1;34m(self, dtype, copy, na_value)\u001B[0m\n\u001B[0;32m   1730\u001B[0m         arr\u001B[38;5;241m.\u001B[39mflags\u001B[38;5;241m.\u001B[39mwriteable \u001B[38;5;241m=\u001B[39m \u001B[38;5;28;01mFalse\u001B[39;00m\n\u001B[0;32m   1731\u001B[0m \u001B[38;5;28;01melse\u001B[39;00m:\n\u001B[1;32m-> 1732\u001B[0m     arr \u001B[38;5;241m=\u001B[39m \u001B[38;5;28mself\u001B[39m\u001B[38;5;241m.\u001B[39m_interleave(dtype\u001B[38;5;241m=\u001B[39mdtype, na_value\u001B[38;5;241m=\u001B[39mna_value)\n\u001B[0;32m   1733\u001B[0m     \u001B[38;5;66;03m# The underlying data was copied within _interleave, so no need\u001B[39;00m\n\u001B[0;32m   1734\u001B[0m     \u001B[38;5;66;03m# to further copy if copy=True or setting na_value\u001B[39;00m\n\u001B[0;32m   1736\u001B[0m \u001B[38;5;28;01mif\u001B[39;00m na_value \u001B[38;5;129;01mis\u001B[39;00m \u001B[38;5;129;01mnot\u001B[39;00m lib\u001B[38;5;241m.\u001B[39mno_default:\n",
      "File \u001B[1;32m~\\AppData\\Local\\Anaconda\\envs\\data-mining-project\\Lib\\site-packages\\pandas\\core\\internals\\managers.py:1794\u001B[0m, in \u001B[0;36mBlockManager._interleave\u001B[1;34m(self, dtype, na_value)\u001B[0m\n\u001B[0;32m   1792\u001B[0m     \u001B[38;5;28;01melse\u001B[39;00m:\n\u001B[0;32m   1793\u001B[0m         arr \u001B[38;5;241m=\u001B[39m blk\u001B[38;5;241m.\u001B[39mget_values(dtype)\n\u001B[1;32m-> 1794\u001B[0m     result[rl\u001B[38;5;241m.\u001B[39mindexer] \u001B[38;5;241m=\u001B[39m arr\n\u001B[0;32m   1795\u001B[0m     itemmask[rl\u001B[38;5;241m.\u001B[39mindexer] \u001B[38;5;241m=\u001B[39m \u001B[38;5;241m1\u001B[39m\n\u001B[0;32m   1797\u001B[0m \u001B[38;5;28;01mif\u001B[39;00m \u001B[38;5;129;01mnot\u001B[39;00m itemmask\u001B[38;5;241m.\u001B[39mall():\n",
      "\u001B[1;31mValueError\u001B[0m: could not convert string to float: 'Europe'"
     ]
    }
   ],
   "source": [
    "# Compute the correlation matrix\n",
    "corr_matrix = sum_df.corr()\n",
    "\n",
    "# Create a custom color map\n",
    "cmap = sns.color_palette('hot', as_cmap=True)\n",
    "\n",
    "# Create a heatmap\n",
    "sns.heatmap(corr_matrix, annot=True, cmap=cmap, fmt=\".2f\", linewidths=0.5)\n",
    "\n",
    "# Customize the plot\n",
    "plt.title('Correlation Heatmap', fontsize=14)\n",
    "plt.xticks(rotation=30, ha='right', fontsize=10)\n",
    "plt.yticks(rotation=0, fontsize=10)\n",
    "plt.gcf().set_size_inches(12, 8)\n",
    "plt.tight_layout()\n",
    "\n",
    "# Show the plot\n",
    "plt.show()"
   ]
  },
  {
   "cell_type": "markdown",
   "metadata": {},
   "source": [
    "## Question 2 - Clustering"
   ]
  },
  {
   "cell_type": "code",
   "execution_count": null,
   "metadata": {
    "ExecuteTime": {
     "start_time": "2023-09-01T20:40:48.116903Z"
    }
   },
   "outputs": [],
   "source": [
    "from sklearn.decomposition import PCA\n",
    "from sklearn.cluster import DBSCAN\n",
    "from sklearn.metrics import silhouette_score as sil\n",
    "from sklearn.preprocessing import StandardScaler\n",
    "import itertools"
   ]
  },
  {
   "cell_type": "code",
   "execution_count": null,
   "metadata": {
    "ExecuteTime": {
     "start_time": "2023-09-01T20:40:48.116903Z"
    }
   },
   "outputs": [],
   "source": [
    "# Set the threshold for correlation with deaths and mortality\n",
    "threshold = 0.4\n",
    "\n",
    "# Select the columns with high correlation to deaths\n",
    "sel_cols = [col for col in corr_matrix.columns if\n",
    "            abs(corr_matrix['Deaths/Million'][col]) >= threshold and col != 'Deaths/Million']\n",
    "# Get the correlation scores for the selected columns\n",
    "corr_scores = np.abs(corr_matrix.loc['Deaths/Million', sel_cols])\n",
    "\n",
    "corr_scores"
   ]
  },
  {
   "cell_type": "code",
   "execution_count": null,
   "metadata": {
    "ExecuteTime": {
     "start_time": "2023-09-01T20:40:48.116903Z"
    }
   },
   "outputs": [],
   "source": [
    "# Create the feature matrix using the selected columns\n",
    "X = sum_df[sel_cols].to_numpy()\n",
    "\n",
    "# Scale the data\n",
    "scaler = StandardScaler()\n",
    "X_scaled = scaler.fit_transform(X)\n",
    "\n",
    "# Scale the data using the correlation scores\n",
    "X_scaled = X_scaled * np.array(corr_scores)\n",
    "\n",
    "# Apply PCA to the scaled data to reduce the number of dimensions.\n",
    "pca = PCA(n_components=2)\n",
    "X_pca = pca.fit_transform(X_scaled)"
   ]
  },
  {
   "cell_type": "code",
   "execution_count": null,
   "metadata": {
    "ExecuteTime": {
     "start_time": "2023-09-01T20:40:48.116903Z"
    }
   },
   "outputs": [],
   "source": [
    "# Create a list of combinations\n",
    "epsilons = np.linspace(0.01, 1, 100)\n",
    "min_samples = range(2, 20)\n",
    "combinations = list(itertools.product(epsilons, min_samples))"
   ]
  },
  {
   "cell_type": "code",
   "execution_count": null,
   "metadata": {
    "ExecuteTime": {
     "start_time": "2023-09-01T20:40:48.116903Z"
    }
   },
   "outputs": [],
   "source": [
    "def get_scores_and_labels(combs, matrix):\n",
    "    scores = []\n",
    "    all_labels = []\n",
    "    for i, (e, s) in enumerate(combs):\n",
    "        dbscan = DBSCAN(eps=e, min_samples=s)\n",
    "        dbscan.fit(matrix)\n",
    "\n",
    "        labels = dbscan.labels_\n",
    "        labels_set = set(dbscan.labels_)\n",
    "        cluster_num = len(labels_set) - (1 if -1 in labels_set else 0)\n",
    "\n",
    "        if (cluster_num < 3) or (cluster_num > 50):\n",
    "            scores.append(-1)\n",
    "            all_labels.append('bad')\n",
    "            print(f'Combination {(e, s)} on iteration {i + 1} produced {cluster_num} clusters. Skipping...')\n",
    "            continue\n",
    "\n",
    "        scores.append(sil(matrix, labels))\n",
    "        all_labels.append(labels)\n",
    "        print(\n",
    "            f'Combination {(e, s)} on iteration {i + 1} produced {cluster_num} clusters. Silhouette score: {scores[-1]}')\n",
    "\n",
    "    best_index = np.argmax(scores)\n",
    "    best_params = combs[best_index]\n",
    "    best_score = scores[best_index]\n",
    "    best_labels = all_labels[best_index]\n",
    "\n",
    "    return {\n",
    "        'best_epsilons': best_params[0],\n",
    "        'best_min_samples': best_params[1],\n",
    "        'best_score': best_score,\n",
    "        'best_labels': best_labels\n",
    "    }"
   ]
  },
  {
   "cell_type": "code",
   "execution_count": null,
   "metadata": {
    "ExecuteTime": {
     "start_time": "2023-09-01T20:40:48.116903Z"
    }
   },
   "outputs": [],
   "source": [
    "best_dict = get_scores_and_labels(combinations, X_pca)\n",
    "best_dict"
   ]
  },
  {
   "cell_type": "code",
   "execution_count": null,
   "metadata": {
    "ExecuteTime": {
     "start_time": "2023-09-01T20:40:48.116903Z"
    }
   },
   "outputs": [],
   "source": [
    "sum_df['Cluster'] = best_dict['best_labels']\n",
    "sum_df['Cluster'].value_counts()"
   ]
  },
  {
   "cell_type": "code",
   "execution_count": null,
   "metadata": {
    "ExecuteTime": {
     "start_time": "2023-09-01T20:40:48.116903Z"
    }
   },
   "outputs": [],
   "source": [
    "# Scatter plot of the data colored by cluster\n",
    "plt.scatter(X_pca[:, 0], X_pca[:, 1], c=sum_df['Cluster'], cmap='plasma')"
   ]
  },
  {
   "cell_type": "code",
   "execution_count": null,
   "metadata": {
    "ExecuteTime": {
     "start_time": "2023-09-01T20:40:48.116903Z"
    }
   },
   "outputs": [],
   "source": [
    "# Show the averages per cluster\n",
    "clusters_df = sum_df.groupby('Cluster').mean()\n",
    "clusters_df.round(2)"
   ]
  },
  {
   "cell_type": "markdown",
   "metadata": {},
   "source": [
    "## Question 3 - Prediction\n"
   ]
  },
  {
   "cell_type": "code",
   "execution_count": null,
   "metadata": {
    "ExecuteTime": {
     "start_time": "2023-09-01T20:40:48.116903Z"
    }
   },
   "outputs": [],
   "source": [
    "from sklearn.model_selection import train_test_split\n",
    "from sklearn.svm import SVR\n",
    "from sklearn.metrics import mean_squared_error, mean_absolute_error, r2_score"
   ]
  },
  {
   "cell_type": "code",
   "execution_count": null,
   "metadata": {
    "ExecuteTime": {
     "start_time": "2023-09-01T20:40:48.116903Z"
    }
   },
   "outputs": [],
   "source": [
    "greece_df = df[df['Entity'] == 'Greece']\n",
    "greece_df.reset_index(inplace=True, drop=True)\n",
    "\n",
    "# drop the columns that have single unique values\n",
    "greece_df = greece_df.drop([col for col in greece_df if greece_df[col].nunique() == 1], axis=1)\n",
    "\n",
    "greece_df"
   ]
  },
  {
   "cell_type": "code",
   "execution_count": null,
   "metadata": {
    "ExecuteTime": {
     "start_time": "2023-09-01T20:40:48.116903Z"
    }
   },
   "outputs": [],
   "source": [
    "date_to_predict = greece_df['Date'].max() + pd.Timedelta(days=3)\n",
    "# Select the features (input)\n",
    "X = np.arange(len(greece_df)).reshape(-1, 1)"
   ]
  },
  {
   "cell_type": "code",
   "execution_count": null,
   "metadata": {
    "ExecuteTime": {
     "start_time": "2023-09-01T20:40:48.116903Z"
    }
   },
   "outputs": [],
   "source": [
    "y1 = greece_df[\"Daily cases\"].values\n",
    "\n",
    "svr1 = SVR(kernel='linear')\n",
    "\n",
    "svr1.fit(X, y1)"
   ]
  },
  {
   "cell_type": "code",
   "execution_count": null,
   "metadata": {
    "ExecuteTime": {
     "start_time": "2023-09-01T20:40:48.116903Z"
    }
   },
   "outputs": [],
   "source": [
    "y2 = greece_df[\"Daily tests\"].values\n",
    "\n",
    "svr2 = SVR(kernel='linear')\n",
    "\n",
    "svr2.fit(X, y2)"
   ]
  },
  {
   "cell_type": "code",
   "execution_count": null,
   "metadata": {
    "ExecuteTime": {
     "start_time": "2023-09-01T20:40:48.116903Z"
    }
   },
   "outputs": [],
   "source": [
    "predicted_daily_cases = svr1.predict([[len(greece_df) + 3]])[0]\n",
    "predicted_daily_tests = svr2.predict([[len(greece_df) + 3]])[0]\n",
    "\n",
    "predicted_daily_tests_ = round(predicted_daily_cases / predicted_daily_tests * 100, 2)\n",
    "print(f\"Predicted daily positivity rate ({date_to_predict}): {predicted_daily_tests_}%\")"
   ]
  },
  {
   "cell_type": "code",
   "execution_count": null,
   "metadata": {
    "ExecuteTime": {
     "start_time": "2023-09-01T20:40:48.116903Z"
    }
   },
   "outputs": [],
   "source": [
    "# train_cols = [col for col in greece_df.columns if greece_df[col].nunique() > 1]\n",
    "# train_cols.remove('Daily positivity rate (%)')\n",
    "# train_cols.remove('Date')\n",
    "# ## Select the features (input)\n",
    "# X = greece_df[train_cols].values\n",
    "#\n",
    "# # Select the target variable (output)\n",
    "# y = greece_df[\"Daily positivity rate (%)\"].values\n",
    "# X[np.isinf(X)] = 1e10\n",
    "# y[np.isinf(y)] = 1e10\n",
    "# # Split the data into training and testing sets\n",
    "# X_train, X_test, y_train, y_test = train_test_split(X, y, test_size=0.9, random_state=42)\n",
    "#\n",
    "# # Create an instance of the SVM regression model\n",
    "# svm_model = SVR(kernel='rbf', C=1.0, epsilon=0.1)\n",
    "#\n",
    "# # Fit the model to the training data\n",
    "# svm_model.fit(X_train, y_train)\n",
    "#\n",
    "# # Make predictions on the testing data\n",
    "# svm_predictions = svm_model.predict(X_test)\n",
    "#\n",
    "# # Evaluate the model\n",
    "# mse = mean_squared_error(y_test, svm_predictions)\n",
    "# mae = mean_absolute_error(y_test, svm_predictions)\n",
    "# r2 = r2_score(y_test, svm_predictions)\n",
    "#\n",
    "# # Print the evaluation metrics\n",
    "# print(\"Mean Squared Error:\", mse)\n",
    "# print(\"Mean Absolute Error:\", mae)\n",
    "# print(\"R-squared Score:\", r2)\n",
    "#\n",
    "# # Predict the positivity rate three days after the last available data\n",
    "# last_data = greece_df.iloc[-1, :]\n",
    "# last_features = last_data[train_cols].values\n",
    "# predicted_positivity_rate = svm_model.predict([last_features])\n",
    "# print(\"Predicted daily positivity rate (3 days later):\", predicted_positivity_rate)"
   ]
  }
 ],
 "metadata": {
  "kernelspec": {
   "display_name": "Python 3 (ipykernel)",
   "language": "python",
   "name": "python3"
  },
  "language_info": {
   "codemirror_mode": {
    "name": "ipython",
    "version": 3
   },
   "file_extension": ".py",
   "mimetype": "text/x-python",
   "name": "python",
   "nbconvert_exporter": "python",
   "pygments_lexer": "ipython3",
   "version": "3.11.4"
  }
 },
 "nbformat": 4,
 "nbformat_minor": 1
}
