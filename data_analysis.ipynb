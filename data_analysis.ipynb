{
 "cells": [
  {
   "cell_type": "code",
   "execution_count": 2,
   "metadata": {
    "collapsed": true,
    "ExecuteTime": {
     "end_time": "2023-06-14T20:34:53.516160400Z",
     "start_time": "2023-06-14T20:34:53.334684600Z"
    }
   },
   "outputs": [],
   "source": [
    "import pandas as pd\n",
    "import matplotlib.pyplot as plt\n",
    "import seaborn as sns"
   ]
  },
  {
   "cell_type": "code",
   "execution_count": 0,
   "outputs": [],
   "source": [
    "# Load the data to a DataFrame\n",
    "df = pd.read_csv(\"data.csv\")\n",
    "\n",
    "df['Date'] = pd.to_datetime(df['Date'])\n",
    "df.fillna(0, inplace=True)"
   ],
   "metadata": {
    "collapsed": false
   }
  },
  {
   "cell_type": "code",
   "execution_count": 26,
   "outputs": [
    {
     "name": "stdout",
     "output_type": "stream",
     "text": [
      "         Entity Continent  Latitude  Longitude  Average temperature per year  \\\n",
      "0       Albania    Europe     41.15      20.17                            14   \n",
      "1       Albania    Europe     41.15      20.17                            14   \n",
      "2       Albania    Europe     41.15      20.17                            14   \n",
      "3       Albania    Europe     41.15      20.17                            14   \n",
      "4       Albania    Europe     41.15      20.17                            14   \n",
      "...         ...       ...       ...        ...                           ...   \n",
      "38126  Zimbabwe    Africa    -19.02      29.15                            20   \n",
      "38127  Zimbabwe    Africa    -19.02      29.15                            20   \n",
      "38128  Zimbabwe    Africa    -19.02      29.15                            20   \n",
      "38129  Zimbabwe    Africa    -19.02      29.15                            20   \n",
      "38130  Zimbabwe    Africa    -19.02      29.15                            20   \n",
      "\n",
      "       Hospital beds per 1000 people  Medical doctors per 1000 people  \\\n",
      "0                               2.89                             1.29   \n",
      "1                               2.89                             1.29   \n",
      "2                               2.89                             1.29   \n",
      "3                               2.89                             1.29   \n",
      "4                               2.89                             1.29   \n",
      "...                              ...                              ...   \n",
      "38126                           1.70                             0.08   \n",
      "38127                           1.70                             0.08   \n",
      "38128                           1.70                             0.08   \n",
      "38129                           1.70                             0.08   \n",
      "38130                           1.70                             0.08   \n",
      "\n",
      "       GDP/Capita  Population  Median age  Population aged 65 and over (%)  \\\n",
      "0          5353.2     2873457          38                               14   \n",
      "1          5353.2     2873457          38                               14   \n",
      "2          5353.2     2873457          38                               14   \n",
      "3          5353.2     2873457          38                               14   \n",
      "4          5353.2     2873457          38                               14   \n",
      "...           ...         ...         ...                              ...   \n",
      "38126      1464.0    16529904          19                                3   \n",
      "38127      1464.0    16529904          19                                3   \n",
      "38128      1464.0    16529904          19                                3   \n",
      "38129      1464.0    16529904          19                                3   \n",
      "38130      1464.0    16529904          19                                3   \n",
      "\n",
      "            Date  Daily tests  Cases  Deaths  \n",
      "0     2020-02-25          8.0    0.0     0.0  \n",
      "1     2020-02-26          5.0    0.0     0.0  \n",
      "2     2020-02-27          4.0    0.0     0.0  \n",
      "3     2020-02-28          1.0    0.0     0.0  \n",
      "4     2020-02-29          8.0    0.0     0.0  \n",
      "...          ...          ...    ...     ...  \n",
      "38126 2020-03-20          0.0    1.0     0.0  \n",
      "38127 2020-03-21          0.0    3.0     0.0  \n",
      "38128 2020-03-22          0.0    3.0     0.0  \n",
      "38129 2020-03-23          0.0    3.0     1.0  \n",
      "38130 2020-03-24          0.0    3.0     1.0  \n",
      "\n",
      "[520 rows x 15 columns]\n"
     ]
    }
   ],
   "source": [
    "immutable_columns = set()\n",
    "\n",
    "# Group the data by 'Entity' (country)\n",
    "grouped_df = df.groupby('Entity')\n",
    "\n",
    "print(grouped_df.head())\n",
    "\n",
    "# Iterate over each country\n",
    "for country, country_df in grouped_df:\n",
    "    # Iterate over each column\n",
    "    for column in country_df.columns:\n",
    "        if country_df[column].nunique() == 1:\n",
    "            immutable_columns.add(column)\n"
   ],
   "metadata": {
    "collapsed": false,
    "ExecuteTime": {
     "end_time": "2023-06-14T21:27:07.641538300Z",
     "start_time": "2023-06-14T21:27:07.447001300Z"
    }
   }
  },
  {
   "cell_type": "code",
   "execution_count": 23,
   "outputs": [
    {
     "name": "stdout",
     "output_type": "stream",
     "text": [
      "{'Median age', 'Date', 'Deaths', 'Continent', 'Hospital beds per 1000 people', 'GDP/Capita', 'Population', 'Cases', 'Daily tests', 'Population aged 65 and over (%)', 'Medical doctors per 1000 people', 'Average temperature per year', 'Entity', 'Longitude', 'Latitude'}\n",
      "{'Median age', 'Continent', 'Hospital beds per 1000 people', 'GDP/Capita', 'Population', 'Population aged 65 and over (%)', 'Medical doctors per 1000 people', 'Average temperature per year', 'Entity', 'Longitude', 'Latitude'}\n",
      "{'Date', 'Daily tests', 'Deaths', 'Cases'}\n"
     ]
    }
   ],
   "source": [
    "# Column set of DataFrame\n",
    "column_set = set(df.columns)\n",
    "print(column_set)\n",
    "print(immutable_columns)\n",
    "print(column_set - immutable_columns)"
   ],
   "metadata": {
    "collapsed": false,
    "ExecuteTime": {
     "end_time": "2023-06-14T21:26:03.507534700Z",
     "start_time": "2023-06-14T21:26:03.485020Z"
    }
   }
  },
  {
   "cell_type": "code",
   "execution_count": 14,
   "outputs": [],
   "source": [
    "# Describe the data.\n",
    "df.describe()\n"
   ],
   "metadata": {
    "collapsed": false,
    "ExecuteTime": {
     "end_time": "2023-06-14T20:49:33.368592900Z",
     "start_time": "2023-06-14T20:49:33.190114500Z"
    }
   }
  },
  {
   "cell_type": "code",
   "execution_count": 13,
   "outputs": [],
   "source": [
    "# Bases on the 'Deaths' column which shows the deaths for a country to that day, calculate the daily deaths by subtracting the previous day's deaths from the current day's deaths.\n",
    "df['Deaths'] = df.groupby('Entity')['Deaths'].diff().fillna(0)"
   ],
   "metadata": {
    "collapsed": false,
    "ExecuteTime": {
     "end_time": "2023-06-14T20:45:13.589877600Z",
     "start_time": "2023-06-14T20:45:13.550088300Z"
    }
   }
  },
  {
   "cell_type": "code",
   "execution_count": 8,
   "outputs": [
    {
     "data": {
      "text/plain": "Entity\nUnited States     28605669.0\nIndia             11112241.0\nRussia             4198400.0\nUnited Kingdom     4188827.0\nFrance             3747263.0\n                     ...    \nMongolia              2952.0\nVietnam               2448.0\nNew Zealand           2378.0\nBhutan                 867.0\nFiji                    59.0\nName: Cases, Length: 104, dtype: float64"
     },
     "execution_count": 8,
     "metadata": {},
     "output_type": "execute_result"
    }
   ],
   "source": [
    "# Average cases per data per country\n",
    "df.groupby('Entity')['Cases'].max().sort_values(ascending=False)"
   ],
   "metadata": {
    "collapsed": false,
    "ExecuteTime": {
     "end_time": "2023-06-14T20:37:39.459124Z",
     "start_time": "2023-06-14T20:37:39.419529500Z"
    }
   }
  },
  {
   "cell_type": "code",
   "execution_count": null,
   "outputs": [],
   "source": [
    "# Bar Chart of Mean Values\n",
    "mean_values = df.mean(numeric_only=True)\n",
    "mean_values.plot(kind='bar')\n",
    "plt.title('Mean Values')\n",
    "plt.xlabel('Columns')\n",
    "plt.ylabel('Mean')\n",
    "plt.show()\n"
   ],
   "metadata": {
    "collapsed": false
   }
  },
  {
   "cell_type": "code",
   "execution_count": null,
   "outputs": [],
   "source": [
    "# Box Plot\n",
    "df.boxplot()\n",
    "plt.title('Box Plot')\n",
    "plt.ylabel('Values')\n",
    "plt.show()\n"
   ],
   "metadata": {
    "collapsed": false
   }
  },
  {
   "cell_type": "code",
   "execution_count": null,
   "outputs": [],
   "source": [
    "# Histograms\n",
    "df[['Latitude', 'Longitude', 'GDP/Capita']].hist()\n",
    "plt.suptitle('Histograms')\n",
    "plt.show()\n"
   ],
   "metadata": {
    "collapsed": false
   }
  },
  {
   "cell_type": "code",
   "execution_count": null,
   "outputs": [],
   "source": [
    "# Heatmap of Correlation Matrix\n",
    "corr_matrix = df.corr(numeric_only=True)\n",
    "sns.heatmap(corr_matrix, annot=True)\n",
    "plt.title('Correlation Heatmap')\n",
    "plt.show()\n"
   ],
   "metadata": {
    "collapsed": false
   }
  },
  {
   "cell_type": "code",
   "execution_count": null,
   "outputs": [],
   "source": [
    "# Scatter Plot\n",
    "plt.scatter(df['GDP/Capita'], df['Population'])\n",
    "plt.title('Scatter Plot')\n",
    "plt.xlabel('GDP/Capita')\n",
    "plt.ylabel('Population')\n",
    "plt.show()"
   ],
   "metadata": {
    "collapsed": false
   }
  },
  {
   "cell_type": "code",
   "execution_count": null,
   "outputs": [],
   "source": [
    "# Convert the 'Date' column to datetime type\n",
    "df['Date'] = pd.to_datetime(df['Date'])\n"
   ],
   "metadata": {
    "collapsed": false
   }
  },
  {
   "cell_type": "code",
   "execution_count": null,
   "outputs": [],
   "source": [
    "# Line plot of daily cases\n",
    "plt.plot(df['Date'], df['Cases'])\n",
    "plt.title('Daily COVID-19 Cases')\n",
    "plt.xlabel('Date')\n",
    "plt.ylabel('Cases')\n",
    "plt.xticks(rotation=45)\n",
    "plt.show()\n"
   ],
   "metadata": {
    "collapsed": false
   }
  },
  {
   "cell_type": "code",
   "execution_count": null,
   "outputs": [],
   "source": [
    "# Line plot of daily deaths\n",
    "plt.plot(df['Date'], df['Deaths'])\n",
    "plt.title('Daily COVID-19 Deaths')\n",
    "plt.xlabel('Date')\n",
    "plt.ylabel('Deaths')\n",
    "plt.xticks(rotation=45)\n",
    "plt.show()\n"
   ],
   "metadata": {
    "collapsed": false
   }
  },
  {
   "cell_type": "code",
   "execution_count": null,
   "outputs": [],
   "source": [
    "# Calculate and visualize cumulative cases over time\n",
    "df['Cumulative Cases'] = df['Cases'].cumsum()\n",
    "plt.plot(df['Date'], df['Cumulative Cases'])\n",
    "plt.title('Cumulative COVID-19 Cases')\n",
    "plt.xlabel('Date')\n",
    "plt.ylabel('Cumulative Cases')\n",
    "plt.xticks(rotation=45)\n",
    "plt.show()\n"
   ],
   "metadata": {
    "collapsed": false
   }
  },
  {
   "cell_type": "code",
   "execution_count": null,
   "outputs": [],
   "source": [
    "# Calculate and visualize case fatality rate (CFR)\n",
    "df['CFR'] = df['Deaths'] / df['Cases'] * 100\n",
    "plt.plot(df['Date'], df['CFR'])\n",
    "plt.title('Case Fatality Rate (CFR)')\n",
    "plt.xlabel('Date')\n",
    "plt.ylabel('CFR (%)')\n",
    "plt.xticks(rotation=45)\n",
    "plt.show()\n"
   ],
   "metadata": {
    "collapsed": false
   }
  },
  {
   "cell_type": "code",
   "execution_count": null,
   "outputs": [],
   "source": [
    "# Calculate and visualize daily tests conducted\n",
    "plt.plot(df['Date'], df['Daily tests'])\n",
    "plt.title('Daily COVID-19 Tests')\n",
    "plt.xlabel('Date')\n",
    "plt.ylabel('Tests')\n",
    "plt.xticks(rotation=45)\n",
    "plt.show()\n"
   ],
   "metadata": {
    "collapsed": false
   }
  },
  {
   "cell_type": "code",
   "execution_count": null,
   "outputs": [],
   "source": [
    "# Calculate and visualize tests per case ratio\n",
    "df['Tests per Case'] = df['Daily tests'] / df['Cases']\n",
    "plt.plot(df['Date'], df['Tests per Case'])\n",
    "plt.title('Tests per Case Ratio')\n",
    "plt.xlabel('Date')\n",
    "plt.ylabel('Tests per Case')\n",
    "plt.xticks(rotation=45)\n",
    "plt.show()"
   ],
   "metadata": {
    "collapsed": false
   }
  },
  {
   "cell_type": "markdown",
   "source": [],
   "metadata": {
    "collapsed": false
   }
  }
 ],
 "metadata": {
  "kernelspec": {
   "display_name": "Python 3",
   "language": "python",
   "name": "python3"
  },
  "language_info": {
   "codemirror_mode": {
    "name": "ipython",
    "version": 2
   },
   "file_extension": ".py",
   "mimetype": "text/x-python",
   "name": "python",
   "nbconvert_exporter": "python",
   "pygments_lexer": "ipython2",
   "version": "2.7.6"
  }
 },
 "nbformat": 4,
 "nbformat_minor": 0
}
